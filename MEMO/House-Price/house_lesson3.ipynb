{
 "cells": [
  {
   "cell_type": "markdown",
   "metadata": {},
   "source": [
    "# 房價預測 - 特徵工程\n",
    "本次的課程將學習如何實作迴歸分析模型，目的是利用房子的相關資訊，來預測該房價；藉由此項專案將學會如何使用python裡的套件pandas和numpy來操作資料、並利用matplotlib、seaborn視覺化資料，以及用keras來搭建深度學習的模型。"
   ]
  },
  {
   "cell_type": "markdown",
   "metadata": {},
   "source": [
    "### 環境提醒及備註\n",
    "在執行本範例前請先確認Jupyter筆記本設置是否正確，首先點選主選單的「修改」─「筆記本設置」─「運行類別」，選擇「Python3」，同時將「硬件加速器」下拉式選單由「None」改成「GPU」，再按「保存」。"
   ]
  },
  {
   "cell_type": "markdown",
   "metadata": {},
   "source": [
    "### 課程架構\n",
    "在房價預測的專案中，將帶著學員建構一個深度學習的模型，並進行房價預測，主要包括以下四個步驟：\n",
    "\n",
    ">1.   如何進行資料前處理(Processing)\n",
    "\n",
    ">2.   如何實作探索式數據分析(Exploratory Data Analysis)\n",
    "\n",
    ">3.   如何導入特徵工程(Feature Engineering)\n",
    "\n",
    ">4.   如何選擇模型並評估其學習狀況(Model&Inference) "
   ]
  },
  {
   "cell_type": "markdown",
   "metadata": {},
   "source": [
    "---\n",
    "\n",
    "**3.1 載入所需套件**\n",
    "\n",
    "---"
   ]
  },
  {
   "cell_type": "code",
   "execution_count": 1,
   "metadata": {},
   "outputs": [
    {
     "name": "stderr",
     "output_type": "stream",
     "text": [
      "/anaconda3/lib/python3.6/site-packages/h5py/__init__.py:36: FutureWarning: Conversion of the second argument of issubdtype from `float` to `np.floating` is deprecated. In future, it will be treated as `np.float64 == np.dtype(float).type`.\n",
      "  from ._conv import register_converters as _register_converters\n",
      "Using TensorFlow backend.\n"
     ]
    }
   ],
   "source": [
    "# 3-1\n",
    "# 首先載入所需套件，一般會利用import (package_name) as (xxx) 來簡化套件名稱，使得之後呼叫它們時更方便\n",
    "\n",
    "import numpy as np\n",
    "import pandas as pd\n",
    "import matplotlib.pyplot as plt\n",
    "import seaborn as sns # 基於matplotlib提供更多高階視覺化的套件\n",
    "from keras.models import Sequential\n",
    "from keras.layers import Dense, Dropout\n",
    "from keras.models import load_model\n",
    "\n",
    "import warnings\n",
    "plt.style.use('ggplot')\n",
    "warnings.filterwarnings('ignore')\n",
    "%matplotlib inline"
   ]
  },
  {
   "cell_type": "code",
   "execution_count": 2,
   "metadata": {},
   "outputs": [],
   "source": [
    "# 3-2\n",
    "# 可以用pandas裡面的函式來讀取csv檔，使用方法為pd.read_csv('檔案名稱')\n",
    "\n",
    "train = pd.read_csv('train/train-v3.csv')\n",
    "test = pd.read_csv('test/test-v3.csv')\n",
    "valid = pd.read_csv('vaild/valid-v3.csv')"
   ]
  },
  {
   "cell_type": "markdown",
   "metadata": {},
   "source": [
    "---\n",
    "\n",
    "**3.2 處理outlier**\n",
    "\n",
    "---"
   ]
  },
  {
   "cell_type": "code",
   "execution_count": 3,
   "metadata": {},
   "outputs": [
    {
     "name": "stdout",
     "output_type": "stream",
     "text": [
      "Shape Of The Before Ouliers:  (12967, 23)\n",
      "Shape Of The After Ouliers:  (12863, 23)\n"
     ]
    }
   ],
   "source": [
    "# 3-3\n",
    "\n",
    "print (\"Shape Of The Before Ouliers: \",train.shape)\n",
    "train1 = train[np.abs(train['bathrooms']-train['bathrooms'].mean())<=(3*train['bathrooms'].std())] \n",
    "print (\"Shape Of The After Ouliers: \",train1.shape)"
   ]
  },
  {
   "cell_type": "code",
   "execution_count": 4,
   "metadata": {},
   "outputs": [
    {
     "name": "stdout",
     "output_type": "stream",
     "text": [
      "Shape Of The Before Ouliers:  (12967, 23)\n",
      "Shape Of The After Ouliers:  (12758, 23)\n"
     ]
    }
   ],
   "source": [
    "# 3-4\n",
    "\n",
    "print (\"Shape Of The Before Ouliers: \",train.shape)\n",
    "train2 = train1[np.abs(train['sqft_living']-train['sqft_living'].mean())<=(3*train['sqft_living'].std())] \n",
    "print (\"Shape Of The After Ouliers: \",train2.shape)"
   ]
  },
  {
   "cell_type": "code",
   "execution_count": 5,
   "metadata": {},
   "outputs": [
    {
     "name": "stdout",
     "output_type": "stream",
     "text": [
      "Shape Of The Before Ouliers:  (12967, 23)\n",
      "Shape Of The After Ouliers:  (12670, 23)\n"
     ]
    }
   ],
   "source": [
    "# 3-5\n",
    "\n",
    "print (\"Shape Of The Before Ouliers: \",train.shape)\n",
    "train3 = train2[np.abs(train['sqft_basement']-train['sqft_basement'].mean())<=(3*train['sqft_basement'].std())] \n",
    "print (\"Shape Of The After Ouliers: \",train3.shape)"
   ]
  },
  {
   "cell_type": "markdown",
   "metadata": {},
   "source": [
    "---\n",
    "\n",
    "**3.3 輸出訓練資料集**\n",
    "\n",
    "---"
   ]
  },
  {
   "cell_type": "code",
   "execution_count": 6,
   "metadata": {},
   "outputs": [],
   "source": [
    "# 3-6\n",
    "train3.to_excel('train/train_new.xls')"
   ]
  },
  {
   "cell_type": "markdown",
   "metadata": {},
   "source": [
    "-----"
   ]
  }
 ],
 "metadata": {
  "kernelspec": {
   "display_name": "Python 3",
   "language": "python",
   "name": "python3"
  },
  "language_info": {
   "codemirror_mode": {
    "name": "ipython",
    "version": 3
   },
   "file_extension": ".py",
   "mimetype": "text/x-python",
   "name": "python",
   "nbconvert_exporter": "python",
   "pygments_lexer": "ipython3",
   "version": "3.6.5"
  }
 },
 "nbformat": 4,
 "nbformat_minor": 2
}
