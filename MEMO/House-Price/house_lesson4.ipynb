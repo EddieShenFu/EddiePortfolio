{
 "cells": [
  {
   "cell_type": "markdown",
   "metadata": {},
   "source": [
    "# 房價預測 - 選擇模型/評估\n",
    "本次的課程將學習如何實作迴歸分析模型，目的是利用房子的相關資訊，來預測該房價；藉由此項專案將學會如何使用python裡的套件pandas和numpy來操作資料、並利用matplotlib、seaborn視覺化資料，以及用keras來搭建深度學習的模型。"
   ]
  },
  {
   "cell_type": "markdown",
   "metadata": {},
   "source": [
    "### 環境提醒及備註\n",
    "在執行本範例前請先確認Jupyter筆記本設置是否正確，首先點選主選單的「修改」─「筆記本設置」─「運行類別」，選擇「Python3」，同時將「硬件加速器」下拉式選單由「None」改成「GPU」，再按「保存」。"
   ]
  },
  {
   "cell_type": "markdown",
   "metadata": {},
   "source": [
    "### 課程架構\n",
    "在這個範例中我們將帶著大家建構一個機器學習的模型，並進行房價預測，主要包括下面四個步驟：\n",
    "\n",
    ">1.   如何進行資料前處理(Processing)\n",
    "\n",
    ">2.   如何探索式數據分析(Exploratory Data Analysis)\n",
    "\n",
    ">3.   如何實作特徵工程(Feature Engineering)\n",
    "\n",
    ">4.   如何模型選擇訓練成果進行推論(Inference) "
   ]
  },
  {
   "cell_type": "markdown",
   "metadata": {},
   "source": [
    "---\n",
    "\n",
    "**4.1 載入所需套件**\n",
    "\n",
    "---"
   ]
  },
  {
   "cell_type": "code",
   "execution_count": 23,
   "metadata": {},
   "outputs": [],
   "source": [
    "# 4-1\n",
    "# 首先載入所需套件，一般會利用import (package_name) as (xxx) 來簡化套件名稱，使得之後呼叫它們時更方便\n",
    "\n",
    "import numpy as np\n",
    "import pandas as pd\n",
    "import matplotlib.pyplot as plt\n",
    "import seaborn as sns # 基於matplotlib提供更多高階視覺化的套件\n",
    "from keras.models import Sequential\n",
    "from keras.layers import Dense, Dropout\n",
    "from keras.models import load_model\n",
    "\n",
    "from sklearn.metrics import mean_absolute_error #平方絕對誤差\n",
    "import warnings\n",
    "plt.style.use('ggplot')\n",
    "warnings.filterwarnings('ignore')\n",
    "%matplotlib inline"
   ]
  },
  {
   "cell_type": "code",
   "execution_count": 24,
   "metadata": {},
   "outputs": [],
   "source": [
    "from sklearn.cross_validation import cross_val_score\n",
    "from sklearn.metrics import make_scorer, mean_squared_error\n",
    "from sklearn.linear_model import Ridge, RidgeCV, ElasticNet, LassoCV, LassoLarsCV\n",
    "from sklearn.model_selection import cross_val_score\n",
    "from operator import itemgetter\n",
    "import itertools\n",
    "pd.set_option('display.float_format',lambda x:'{:.3f}'.format(x))\n",
    "\n",
    "import xgboost as xgb"
   ]
  },
  {
   "cell_type": "code",
   "execution_count": 25,
   "metadata": {},
   "outputs": [],
   "source": [
    "# 4-2\n",
    "# 可以用pandas裡面的函式來讀取csv檔，使用方法為pd.read_csv('檔案名稱')\n",
    "\n",
    "train = pd.read_csv('train/train-v3.csv')\n",
    "test = pd.read_csv('test/test-v3.csv')\n",
    "valid = pd.read_csv('vaild/valid-v3.csv')"
   ]
  },
  {
   "cell_type": "code",
   "execution_count": 26,
   "metadata": {},
   "outputs": [],
   "source": [
    "# 4-3\n",
    "\n",
    "train = train.drop('id',axis=1)"
   ]
  },
  {
   "cell_type": "code",
   "execution_count": 27,
   "metadata": {},
   "outputs": [],
   "source": [
    "# 4-4\n",
    "\n",
    "train_use = train.values\n",
    "x_train = train_use[:,1:21]\n",
    "y_train = train_use[:,0]"
   ]
  },
  {
   "cell_type": "code",
   "execution_count": 28,
   "metadata": {},
   "outputs": [],
   "source": [
    "# 4-5\n",
    "\n",
    "test_use = test.values\n",
    "x_test = test_use[:,1:21]"
   ]
  },
  {
   "cell_type": "code",
   "execution_count": 29,
   "metadata": {},
   "outputs": [],
   "source": [
    "# 4-6\n",
    "\n",
    "valid_use = valid.values\n",
    "x_valid = valid_use[:, 2:22]\n",
    "y_valid = valid_use[:, 1]"
   ]
  },
  {
   "cell_type": "code",
   "execution_count": 30,
   "metadata": {},
   "outputs": [
    {
     "ename": "SyntaxError",
     "evalue": "invalid syntax (<ipython-input-30-8ffc96496787>, line 1)",
     "output_type": "error",
     "traceback": [
      "\u001b[0;36m  File \u001b[0;32m\"<ipython-input-30-8ffc96496787>\"\u001b[0;36m, line \u001b[0;32m1\u001b[0m\n\u001b[0;31m    ---\u001b[0m\n\u001b[0m       ^\u001b[0m\n\u001b[0;31mSyntaxError\u001b[0m\u001b[0;31m:\u001b[0m invalid syntax\n"
     ]
    }
   ],
   "source": [
    "---\n",
    "\n",
    "**4.2 正規化**\n",
    "\n",
    "---"
   ]
  },
  {
   "cell_type": "code",
   "execution_count": 31,
   "metadata": {},
   "outputs": [],
   "source": [
    "# 4-7\n",
    "\n",
    "def normalize(train, valid , test):\n",
    "    tmp = train\n",
    "    mean, std = tmp.mean(axis=0), tmp.std(axis=0)\n",
    "    print(\"tmp,shape =\", tmp.shape)\n",
    "    print(\"mean.shape =\", mean.shape)\n",
    "    print(\"std.shape = \", std.shape)\n",
    "    print(\"mean = \",mean)\n",
    "    print(\"std = \",std)\n",
    "    train = (train - mean) / std\n",
    "    valid = (valid - mean) / std\n",
    "    test = (test - mean) / std\n",
    "\n",
    "    return train, valid, test"
   ]
  },
  {
   "cell_type": "code",
   "execution_count": 32,
   "metadata": {},
   "outputs": [
    {
     "name": "stdout",
     "output_type": "stream",
     "text": [
      "tmp,shape = (12967, 20)\n",
      "mean.shape = (20,)\n",
      "std.shape =  (20,)\n",
      "mean =  [ 2.01432251e+03  6.57206756e+00  1.57299298e+01  3.36238143e+00\n",
      "  2.10605768e+00  2.07129506e+03  1.49953877e+04  1.44289350e+00\n",
      "  8.02035937e-03  2.34209917e-01  3.41613326e+00  7.64602452e+00\n",
      "  1.78174181e+03  2.89553251e+02  1.97076695e+03  8.29488702e+01\n",
      "  9.80784592e+04  4.75589099e+01 -1.22214565e+02  1.98014367e+03]\n",
      "std =  [4.67437323e-01 3.10767170e+00 8.61917267e+00 9.41087586e-01\n",
      " 7.65250424e-01 9.19319729e+02 3.87504117e+04 5.51606293e-01\n",
      " 8.91965986e-02 7.69377298e-01 6.52486031e-01 1.17114391e+00\n",
      " 8.26549042e+02 4.40725638e+02 2.94716406e+01 3.98318370e+02\n",
      " 5.35229912e+01 1.38972885e-01 1.40475493e-01 6.83545964e+02]\n"
     ]
    }
   ],
   "source": [
    "# 4-8\n",
    "\n",
    "X_train ,X_valid ,X_test = normalize(x_train, x_valid, x_test)"
   ]
  },
  {
   "cell_type": "markdown",
   "metadata": {},
   "source": [
    "---\n",
    "\n",
    "**4.3 搭建&訓練模型**\n",
    "\n",
    "---"
   ]
  },
  {
   "cell_type": "code",
   "execution_count": 33,
   "metadata": {},
   "outputs": [],
   "source": [
    "# 4-9\n",
    "# create model\n",
    "\n",
    "model = Sequential()\n",
    "model.add(Dense(units=32, input_shape=(20,), kernel_initializer='random_uniform', activation='relu'))\n",
    "model.add(Dense(units=64, input_shape=(32,), kernel_initializer='random_uniform', activation='relu'))\n",
    "model.add(Dropout(0.1))\n",
    "model.add(Dense(units=96, input_shape=(64,), kernel_initializer='random_uniform', activation='relu'))\n",
    "model.add(Dropout(0.2))\n",
    "model.add(Dense(units=128, input_shape=(96,), kernel_initializer='random_uniform', activation='relu'))\n",
    "model.add(Dropout(0.3))\n",
    "model.add(Dense(units=256, input_shape=(128,), kernel_initializer='random_uniform', activation='relu'))\n",
    "model.add(Dropout(0.3))\n",
    "model.add(Dense(units=20, input_shape=(256,), kernel_initializer='random_uniform', activation='relu'))\n",
    "\n",
    "model.add(Dense(units=1, kernel_initializer='random_uniform'))"
   ]
  },
  {
   "cell_type": "code",
   "execution_count": 34,
   "metadata": {},
   "outputs": [
    {
     "name": "stdout",
     "output_type": "stream",
     "text": [
      "Train on 12967 samples, validate on 2161 samples\n",
      "Epoch 1/10\n",
      "Epoch 2/10\n",
      "Epoch 3/10\n",
      "Epoch 4/10\n",
      "Epoch 5/10\n",
      "Epoch 6/10\n",
      "Epoch 7/10\n",
      "Epoch 8/10\n",
      "Epoch 9/10\n",
      "Epoch 10/10\n"
     ]
    }
   ],
   "source": [
    "# 4-10\n",
    "# choose loss function and optimizing method\n",
    "\n",
    "model.compile(loss='mae', optimizer='adam')\n",
    "\n",
    "epochs = 10\n",
    "batch_size = 32\n",
    "\n",
    "file_name = str(epochs) + '_' + str(batch_size)\n",
    "\n",
    "history = model.fit(x_train, y_train, \n",
    "                    epochs=epochs, \n",
    "                    batch_size=batch_size, \n",
    "                    verbose=100, \n",
    "                    validation_data=(x_valid, y_valid))"
   ]
  },
  {
   "cell_type": "markdown",
   "metadata": {},
   "source": [
    "---\n",
    "\n",
    "**4.4 評估模型**\n",
    "\n",
    "---"
   ]
  },
  {
   "cell_type": "code",
   "execution_count": 36,
   "metadata": {},
   "outputs": [
    {
     "name": "stdout",
     "output_type": "stream",
     "text": [
      "{'val_loss': [175091.53015820222, 158764.2321118695, 173218.25055674458, 153236.9923791069, 153043.57225387552, 151638.2713804373, 150793.4531105391, 151055.34844979175, 155986.49996384775, 158706.7057135007], 'loss': [245665.84716491864, 172089.15251817112, 165975.7012307685, 166689.8743221977, 163624.58092296793, 164131.404054523, 162837.3651070988, 163659.17900789023, 162731.4249079394, 160743.79226112438]}\n",
      "[245665.84716491864, 172089.15251817112, 165975.7012307685, 166689.8743221977, 163624.58092296793, 164131.404054523, 162837.3651070988, 163659.17900789023, 162731.4249079394, 160743.79226112438]\n",
      "[175091.53015820222, 158764.2321118695, 173218.25055674458, 153236.9923791069, 153043.57225387552, 151638.2713804373, 150793.4531105391, 151055.34844979175, 155986.49996384775, 158706.7057135007]\n"
     ]
    }
   ],
   "source": [
    "# 4-11\n",
    "\n",
    "loss = history.history.get('loss')\n",
    "val_loss = history.history.get('val_loss')\n",
    "print(history.history)\n",
    "print(loss)\n",
    "print(val_loss)"
   ]
  },
  {
   "cell_type": "code",
   "execution_count": 37,
   "metadata": {},
   "outputs": [
    {
     "data": {
      "text/plain": [
       "Text(0.5,1,'Training and validation loss')"
      ]
     },
     "execution_count": 37,
     "metadata": {},
     "output_type": "execute_result"
    },
    {
     "data": {
      "image/png": "[encoded data removed]",
      "text/plain": [
       "<Figure size 432x288 with 1 Axes>"
      ]
     },
     "metadata": {},
     "output_type": "display_data"
    }
   ],
   "source": [
    "# 4-12\n",
    "# Plot training and validation loss per epoch\n",
    "\n",
    "plt.figure()\n",
    "epochs = range(len(loss))\n",
    "plt.plot(epochs, loss)\n",
    "plt.plot(epochs, val_loss)\n",
    "plt.title('Training and validation loss')"
   ]
  },
  {
   "cell_type": "code",
   "execution_count": 16,
   "metadata": {},
   "outputs": [],
   "source": [
    "# 4-13\n",
    "\n",
    "model.save(file_name+'.h5')"
   ]
  },
  {
   "cell_type": "code",
   "execution_count": 17,
   "metadata": {},
   "outputs": [
    {
     "name": "stdout",
     "output_type": "stream",
     "text": [
      "Test score: [[  64.1662 ]\n",
      " [1079.1415 ]\n",
      " [  64.83055]\n",
      " ...\n",
      " [  60.42154]\n",
      " [  68.59599]\n",
      " [  60.78566]]\n"
     ]
    }
   ],
   "source": [
    "filepath = '10_32.h5'\n",
    "model = load_model(filepath)\n",
    "\n",
    "Y_predict = model.predict(X_test)\n",
    "\n",
    "print('Test score:', Y_predict)\n",
    "np.savetxt('predict.csv', Y_predict, delimiter = ',')"
   ]
  },
  {
   "cell_type": "code",
   "execution_count": 18,
   "metadata": {},
   "outputs": [
    {
     "name": "stdout",
     "output_type": "stream",
     "text": [
      "61\n"
     ]
    }
   ],
   "source": [
    "import csv\n",
    "with open('predict.csv', newline='') as csvfile:\n",
    "\n",
    "  # 以冒號分隔欄位，讀取檔案內容\n",
    "  rows = csv.reader(csvfile, delimiter=',')\n",
    "\n",
    "  with open('predict_integer.csv','w',newline='') as out:\n",
    "    csv_write = csv.writer(out)\n",
    "    for row in rows:\n",
    "        a=round(float(row[0]))\n",
    "        tmp = []\n",
    "        tmp.append(str(a))\n",
    "        csv_write.writerow(tmp)\n",
    "\n",
    "\n",
    "print(a)"
   ]
  },
  {
   "cell_type": "code",
   "execution_count": 19,
   "metadata": {},
   "outputs": [],
   "source": [
    "# 4-14\n",
    "\n",
    "valid_predict=model.predict(x_valid)"
   ]
  },
  {
   "cell_type": "code",
   "execution_count": 20,
   "metadata": {},
   "outputs": [],
   "source": [
    "# 4-15\n",
    "\n",
    "train_predict=model.predict(x_train)"
   ]
  },
  {
   "cell_type": "code",
   "execution_count": 21,
   "metadata": {},
   "outputs": [
    {
     "name": "stdout",
     "output_type": "stream",
     "text": [
      "\n",
      "\n",
      "151313.92241965182\n"
     ]
    },
    {
     "data": {
      "image/png": "[encoded data removed]",
      "text/plain": [
       "<Figure size 432x288 with 1 Axes>"
      ]
     },
     "metadata": {},
     "output_type": "display_data"
    }
   ],
   "source": [
    "# 4-16\n",
    "\n",
    "plt.figure()\n",
    "plt.scatter(y_train,train_predict,c='Y')\n",
    "MAE_train = mean_absolute_error(y_train,train_predict)\n",
    "print('\\n')\n",
    "print(MAE_train)"
   ]
  },
  {
   "cell_type": "code",
   "execution_count": 22,
   "metadata": {},
   "outputs": [
    {
     "name": "stdout",
     "output_type": "stream",
     "text": [
      "\n",
      "\n",
      "148158.80448866266\n"
     ]
    },
    {
     "data": {
      "image/png": "[encoded data removed]",
      "text/plain": [
       "<Figure size 432x288 with 1 Axes>"
      ]
     },
     "metadata": {},
     "output_type": "display_data"
    }
   ],
   "source": [
    "# 4-17\n",
    "\n",
    "plt.figure()\n",
    "plt.scatter(y_valid,valid_predict,c='Y')\n",
    "MAE_valid = mean_absolute_error(y_valid,valid_predict)\n",
    "print('\\n')\n",
    "print(MAE_valid)"
   ]
  },
  {
   "cell_type": "markdown",
   "metadata": {},
   "source": [
    "----"
   ]
  },
  {
   "cell_type": "code",
   "execution_count": 37,
   "metadata": {},
   "outputs": [],
   "source": [
    "# 4-18\n",
    "# 定義驗證函數\n",
    "\n",
    "def rmse_cv(model):\n",
    "    rmse= np.sqrt(-cross_val_score(model, X_train, y_train, scoring=\"neg_mean_squared_error\", cv = 5))\n",
    "    return(rmse)"
   ]
  },
  {
   "cell_type": "code",
   "execution_count": 38,
   "metadata": {},
   "outputs": [
    {
     "name": "stdout",
     "output_type": "stream",
     "text": [
      "[15:31:44] WARNING: src/objective/regression_obj.cu:152: reg:linear is now deprecated in favor of reg:squarederror.\n",
      "[15:31:54] WARNING: src/objective/regression_obj.cu:152: reg:linear is now deprecated in favor of reg:squarederror.\n",
      "[15:32:02] WARNING: src/objective/regression_obj.cu:152: reg:linear is now deprecated in favor of reg:squarederror.\n",
      "[15:32:12] WARNING: src/objective/regression_obj.cu:152: reg:linear is now deprecated in favor of reg:squarederror.\n",
      "[15:32:20] WARNING: src/objective/regression_obj.cu:152: reg:linear is now deprecated in favor of reg:squarederror.\n",
      "[15:32:28] WARNING: src/objective/regression_obj.cu:152: reg:linear is now deprecated in favor of reg:squarederror.\n",
      "\n",
      "xgb score: 2451760858.7390 (28287037.5902)\n",
      "\n"
     ]
    }
   ],
   "source": [
    "# 4-19\n",
    "# XGBOOST\n",
    "\n",
    "clf3=xgb.XGBRegressor(colsample_bytree=0.4,\n",
    "                 gamma=0.045,\n",
    "                 learning_rate=0.07,\n",
    "                 max_depth=20,\n",
    "                 min_child_weight=1.5,\n",
    "                 n_estimators=300,\n",
    "                 reg_alpha=0.65,\n",
    "                 reg_lambda=0.45,\n",
    "                 subsample=0.95)\n",
    " \n",
    "clf3.fit(X_train, y_train)\n",
    "xgb_preds = np.expm1(clf3.predict(X_test))\n",
    " \n",
    " \n",
    "score3 = rmse_cv(clf3)\n",
    "print(\"\\nxgb score: {:.4f} ({:.4f})\\n\".format(score3.mean(), score3.std()))"
   ]
  },
  {
   "cell_type": "markdown",
   "metadata": {},
   "source": [
    "----"
   ]
  }
 ],
 "metadata": {
  "kernelspec": {
   "display_name": "Python 3",
   "language": "python",
   "name": "python3"
  },
  "language_info": {
   "codemirror_mode": {
    "name": "ipython",
    "version": 3
   },
   "file_extension": ".py",
   "mimetype": "text/x-python",
   "name": "python",
   "nbconvert_exporter": "python",
   "pygments_lexer": "ipython3",
   "version": "3.7.4"
  }
 },
 "nbformat": 4,
 "nbformat_minor": 2
}
