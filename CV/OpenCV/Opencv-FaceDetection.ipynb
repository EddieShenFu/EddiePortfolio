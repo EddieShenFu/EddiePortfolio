{
 "cells": [
  {
   "cell_type": "code",
   "execution_count": null,
   "metadata": {},
   "outputs": [],
   "source": [
    "import dlib\n",
    "import cv2\n",
    "import imutils\n",
    "\n",
    "# 開啟影片檔案\n",
    "cap = cv2.VideoCapture(0)\n",
    "\n",
    "# Dlib 的人臉偵測器\n",
    "detector = dlib.get_frontal_face_detector()\n",
    "\n",
    "# 以迴圈從影片檔案讀取影格，並顯示出來\n",
    "while(cap.isOpened()):\n",
    "  ret, frame = cap.read()\n",
    "\n",
    "  # 偵測人臉\n",
    "  face_rects, scores, idx = detector.run(frame, 0)\n",
    "\n",
    "  # 取出所有偵測的結果\n",
    "  for i, d in enumerate(face_rects):\n",
    "    x1 = d.left()\n",
    "    y1 = d.top()\n",
    "    x2 = d.right()\n",
    "    y2 = d.bottom()\n",
    "    text = \"%2.2f(%d)\" % (scores[i], idx[i])\n",
    "\n",
    "    # 以方框標示偵測的人臉\n",
    "    cv2.rectangle(frame, (x1, y1), (x2, y2), (0, 255, 0), 4, cv2.LINE_AA)\n",
    "\n",
    "    # 標示分數\n",
    "    cv2.putText(frame, text, (x1, y1), cv2.FONT_HERSHEY_DUPLEX,\n",
    "            0.7, (255, 255, 255), 1, cv2.LINE_AA)\n",
    "\n",
    "  # 顯示結果\n",
    "  cv2.imshow(\"Face Detection\", frame)\n",
    "\n",
    "  if cv2.waitKey(1) & 0xFF == ord('q'):\n",
    "    break\n",
    "\n",
    "cap.release()\n",
    "cv2.destroyAllWindows()"
   ]
  },
  {
   "cell_type": "code",
   "execution_count": null,
   "metadata": {},
   "outputs": [],
   "source": []
  }
 ],
 "metadata": {
  "kernelspec": {
   "display_name": "Python 3",
   "language": "python",
   "name": "python3"
  },
  "language_info": {
   "codemirror_mode": {
    "name": "ipython",
    "version": 3
   },
   "file_extension": ".py",
   "mimetype": "text/x-python",
   "name": "python",
   "nbconvert_exporter": "python",
   "pygments_lexer": "ipython3",
   "version": "3.7.4"
  }
 },
 "nbformat": 4,
 "nbformat_minor": 2
}
