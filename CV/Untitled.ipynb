{
 "cells": [
  {
   "cell_type": "code",
   "execution_count": 16,
   "metadata": {},
   "outputs": [
    {
     "ename": "ModuleNotFoundError",
     "evalue": "No module named 'yoloOpencv'",
     "output_type": "error",
     "traceback": [
      "\u001b[0;31m---------------------------------------------------------------------------\u001b[0m",
      "\u001b[0;31mModuleNotFoundError\u001b[0m                       Traceback (most recent call last)",
      "\u001b[0;32m<ipython-input-16-49b28d5ccea2>\u001b[0m in \u001b[0;36m<module>\u001b[0;34m\u001b[0m\n\u001b[0;32m----> 1\u001b[0;31m \u001b[0;32mfrom\u001b[0m \u001b[0myoloOpencv\u001b[0m \u001b[0;32mimport\u001b[0m \u001b[0mopencvYOLO\u001b[0m\u001b[0;34m\u001b[0m\u001b[0;34m\u001b[0m\u001b[0m\n\u001b[0m\u001b[1;32m      2\u001b[0m \u001b[0;32mimport\u001b[0m \u001b[0mcv2\u001b[0m\u001b[0;34m\u001b[0m\u001b[0;34m\u001b[0m\u001b[0m\n\u001b[1;32m      3\u001b[0m \u001b[0;34m\u001b[0m\u001b[0m\n\u001b[1;32m      4\u001b[0m \u001b[0;32mimport\u001b[0m \u001b[0mimutils\u001b[0m\u001b[0;34m\u001b[0m\u001b[0;34m\u001b[0m\u001b[0m\n\u001b[1;32m      5\u001b[0m \u001b[0;34m\u001b[0m\u001b[0m\n",
      "\u001b[0;31mModuleNotFoundError\u001b[0m: No module named 'yoloOpencv'"
     ]
    }
   ],
   "source": [
    "from yoloOpencv import opencvYOLO\n",
    "import cv2\n",
    "\n",
    "import imutils\n",
    "\n",
    "import time\n",
    "\n"
   ]
  },
  {
   "cell_type": "code",
   "execution_count": null,
   "metadata": {},
   "outputs": [],
   "source": [
    "yolo = opencvYOLO(modeltype=\"yolov3″, objnames=\"./darknet/data/coco.names\",\n",
    "\n",
    "weights=\"yolov3.weights\", cfg=\"../darknet/cfg/yolov3.cfg\")"
   ]
  },
  {
   "cell_type": "code",
   "execution_count": 14,
   "metadata": {},
   "outputs": [
    {
     "ename": "SyntaxError",
     "evalue": "invalid syntax (<ipython-input-14-0b3cd304af11>, line 2)",
     "output_type": "error",
     "traceback": [
      "\u001b[0;36m  File \u001b[0;32m\"<ipython-input-14-0b3cd304af11>\"\u001b[0;36m, line \u001b[0;32m2\u001b[0m\n\u001b[0;31m    /darknet/data/coco.names\",weights=\"yolov3.weights\", cfg=\"../darknet/cfg/yolov3.cfg\")\u001b[0m\n\u001b[0m    ^\u001b[0m\n\u001b[0;31mSyntaxError\u001b[0m\u001b[0;31m:\u001b[0m invalid syntax\n"
     ]
    }
   ],
   "source": [
    "yolo = opencvYOLO(modeltype=\"yolov3″ ,\n",
    "                  objnames=\"./darknet/data/coco.names\",\n",
    "                  weights=\"yolov3.weights\", \n",
    "                  cfg=\"../darknet/cfg/yolov3.cfg\")"
   ]
  },
  {
   "cell_type": "code",
   "execution_count": 10,
   "metadata": {},
   "outputs": [
    {
     "name": "stdout",
     "output_type": "stream",
     "text": [
      "\u001b[34mDogs-And-Cats\u001b[m\u001b[m/              Opencv-FaceDetection.ipynb\r\n",
      "\u001b[34mFashionMNIST\u001b[m\u001b[m/               \u001b[34mStyle-Transfrorm\u001b[m\u001b[m/\r\n",
      "Keras-Cifar10.ipynb         Untitled.ipynb\r\n",
      "\u001b[34mMNIST\u001b[m\u001b[m/                      \u001b[34mlogs\u001b[m\u001b[m/\r\n"
     ]
    }
   ],
   "source": [
    "ls"
   ]
  },
  {
   "cell_type": "code",
   "execution_count": 6,
   "metadata": {},
   "outputs": [
    {
     "name": "stdout",
     "output_type": "stream",
     "text": [
      "lrwxr-xr-x  1 chenxinfu  admin  34 Dec 31 15:29 \u001b[35m/usr/local/bin/python3\u001b[m\u001b[m@ -> ../Cellar/python/3.7.6/bin/python3\r\n",
      "lrwxr-xr-x  1 chenxinfu  admin  41 Dec 31 15:29 \u001b[35m/usr/local/bin/python3-config\u001b[m\u001b[m@ -> ../Cellar/python/3.7.6/bin/python3-config\r\n",
      "lrwxr-xr-x  1 chenxinfu  admin  36 Dec 31 15:29 \u001b[35m/usr/local/bin/python3.7\u001b[m\u001b[m@ -> ../Cellar/python/3.7.6/bin/python3.7\r\n",
      "lrwxr-xr-x  1 chenxinfu  admin  43 Dec 31 15:29 \u001b[35m/usr/local/bin/python3.7-config\u001b[m\u001b[m@ -> ../Cellar/python/3.7.6/bin/python3.7-config\r\n",
      "lrwxr-xr-x  1 chenxinfu  admin  37 Dec 31 15:29 \u001b[35m/usr/local/bin/python3.7m\u001b[m\u001b[m@ -> ../Cellar/python/3.7.6/bin/python3.7m\r\n",
      "lrwxr-xr-x  1 chenxinfu  admin  44 Dec 31 15:29 \u001b[35m/usr/local/bin/python3.7m-config\u001b[m\u001b[m@ -> ../Cellar/python/3.7.6/bin/python3.7m-config\r\n"
     ]
    }
   ],
   "source": [
    "ls -al /usr/local/bin/python*\n"
   ]
  },
  {
   "cell_type": "code",
   "execution_count": null,
   "metadata": {},
   "outputs": [],
   "source": [
    "start_time = time.time()\n",
    "\n",
    "if __name__ == “__main__\":\n",
    "\n",
    "VIDEO_IN = cv2.VideoCapture(0)\n",
    "\n",
    "frameID = 0\n",
    "\n",
    "while True:\n",
    "\n",
    "hasFrame, frame = VIDEO_IN.read()\n",
    "\n",
    "# Stop the program if reached end of video\n",
    "\n",
    "if not hasFrame:\n",
    "\n",
    "print(“Done processing !!!\")\n",
    "\n",
    "print(“— %s seconds —\" % (time.time() – start_time))\n",
    "\n",
    "break\n",
    "\n",
    "yolo.getObject(frame, labelWant=\"\", drawBox=True, bold=1, textsize=0.6, bcolor=(0,0,255), tcolor=(255,255,255))\n",
    "\n",
    "print (“Object counts:\", yolo.objCounts)\n",
    "\n",
    "cv2.imshow(“Frame\", imutils.resize(frame, width=850))\n",
    "\n",
    "k = cv2.waitKey(1)\n",
    "\n",
    "if k == 0xFF & ord(“q\"):\n",
    "\n",
    "out.release()\n",
    "\n",
    "break"
   ]
  }
 ],
 "metadata": {
  "kernelspec": {
   "display_name": "Python 3",
   "language": "python",
   "name": "python3"
  },
  "language_info": {
   "codemirror_mode": {
    "name": "ipython",
    "version": 3
   },
   "file_extension": ".py",
   "mimetype": "text/x-python",
   "name": "python",
   "nbconvert_exporter": "python",
   "pygments_lexer": "ipython3",
   "version": "3.7.4"
  }
 },
 "nbformat": 4,
 "nbformat_minor": 2
}
