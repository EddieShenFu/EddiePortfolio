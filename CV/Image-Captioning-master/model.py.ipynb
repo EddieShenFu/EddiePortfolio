{
 "cells": [
  {
   "cell_type": "code",
   "execution_count": 9,
   "metadata": {},
   "outputs": [],
   "source": [
    "embedding_size = 300\n",
    "max_len = 40\n",
    "vocab_size = 8526"
   ]
  },
  {
   "cell_type": "code",
   "execution_count": 14,
   "metadata": {},
   "outputs": [],
   "source": [
    "from keras import Input\n",
    "from keras.layers import Dense,RepeatVector,Embedding,TimeDistributed,LSTM,Concatenate"
   ]
  },
  {
   "cell_type": "code",
   "execution_count": 15,
   "metadata": {},
   "outputs": [],
   "source": [
    "# 輸入為圖片抽取的特徵\n",
    "inputs1 = Input(shape=(2048,)) \n",
    "# 經過一層全連線層\n",
    "x1 = Dense(embedding_size, activation='relu')(inputs1)\n",
    "# 複製max_len次\n",
    "x1 = RepeatVector(max_len)(x1)\n",
    "\n",
    "# 輸入部分描述\n",
    "inputs2 = Input(shape=(max_len,))\n",
    "# 進行詞嵌入\n",
    "x2 = Embedding(vocab_size + 1, embedding_size, input_length=max_len, mask_zero=True)(inputs2)\n",
    "# 經過LSTM層，並保留每個時間步的輸出\n",
    "x2 = LSTM(256, return_sequences=True)(x2)\n",
    "# 對每個時間步的輸出，分別應用一層全連線層\n",
    "x2 = TimeDistributed(Dense(200, activation='relu'))(x2)\n",
    "\n",
    "# 我們將兩部分處理後的輸入在最後一維進行拼接\n",
    "x3 = Concatenate()([x1, x2])\n",
    "# 再經過LSTM，輸出最後一個時間步\n",
    "x3 = LSTM(256)(x3)\n",
    "# 將全連線層的結果進行softmax，對映到詞彙表每個詞的概率\n",
    "outputs = Dense(vocab_size, activation='softmax')(x3)"
   ]
  },
  {
   "cell_type": "code",
   "execution_count": null,
   "metadata": {},
   "outputs": [],
   "source": []
  }
 ],
 "metadata": {
  "kernelspec": {
   "display_name": "Python 3",
   "language": "python",
   "name": "python3"
  },
  "language_info": {
   "codemirror_mode": {
    "name": "ipython",
    "version": 3
   },
   "file_extension": ".py",
   "mimetype": "text/x-python",
   "name": "python",
   "nbconvert_exporter": "python",
   "pygments_lexer": "ipython3",
   "version": "3.7.4"
  }
 },
 "nbformat": 4,
 "nbformat_minor": 2
}
