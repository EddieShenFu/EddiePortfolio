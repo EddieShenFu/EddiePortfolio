{
 "cells": [
  {
   "cell_type": "code",
   "execution_count": 1,
   "metadata": {},
   "outputs": [],
   "source": [
    "import torch"
   ]
  },
  {
   "cell_type": "code",
   "execution_count": 2,
   "metadata": {},
   "outputs": [
    {
     "data": {
      "text/plain": [
       "'1.3.1'"
      ]
     },
     "execution_count": 2,
     "metadata": {},
     "output_type": "execute_result"
    }
   ],
   "source": [
    "torch.__version__"
   ]
  },
  {
   "cell_type": "code",
   "execution_count": 3,
   "metadata": {},
   "outputs": [],
   "source": [
    "import torch  # 導入pytorch\n",
    "from torch import nn, optim  # 導入神經網絡與優化器\n",
    "import torch.nn.functional as F \n",
    "from torchvision import datasets, transforms # 導入數據集與數據預處理\n",
    "\n",
    "import matplotlib.pyplot as plt\n",
    "%matplotlib inline"
   ]
  },
  {
   "cell_type": "code",
   "execution_count": 4,
   "metadata": {},
   "outputs": [],
   "source": [
    "# 数据预处理：标准化图像数据，使得灰度数据在-1到+1之间\n",
    "transform = transforms.Compose([transforms.ToTensor(),transforms.Normalize((0.5,), (0.5,))])\n",
    "\n",
    "# 下载Fashion-MNIST训练集数据，并构建训练集数据载入器trainloader,每次从训练集中载入64张图片，每次载入都打乱顺序\n",
    "trainset = datasets.FashionMNIST('dataset/', download=True, train=True, transform=transform)\n",
    "trainloader = torch.utils.data.DataLoader(trainset, batch_size=64, shuffle=True)\n",
    "\n",
    "# 下载Fashion-MNIST测试集数据，并构建测试集数据载入器trainloader,每次从测试集中载入64张图片，每次载入都打乱顺序\n",
    "testset = datasets.FashionMNIST('dataset/', download=True, train=False, transform=transform)\n",
    "testloader = torch.utils.data.DataLoader(testset, batch_size=64, shuffle=True)"
   ]
  },
  {
   "cell_type": "code",
   "execution_count": 5,
   "metadata": {},
   "outputs": [
    {
     "name": "stdout",
     "output_type": "stream",
     "text": [
      "这张图片对应的标签是 汗衫\n"
     ]
    },
    {
     "data": {
      "image/png": "[encoded data removed]",
      "text/plain": [
       "<Figure size 432x288 with 1 Axes>"
      ]
     },
     "metadata": {
      "needs_background": "light"
     },
     "output_type": "display_data"
    }
   ],
   "source": [
    "image, label = next(iter(trainloader))\n",
    "\n",
    "# image图片中有64张图片，我们查看索引为2的图片\n",
    "imagedemo = image[3]\n",
    "imagedemolabel = label[3]\n",
    "\n",
    "imagedemo = imagedemo.reshape((28,28))\n",
    "\n",
    "import matplotlib.pyplot as plt\n",
    "%matplotlib inline\n",
    "plt.imshow(imagedemo)\n",
    "\n",
    "labellist = ['T恤','裤子','套衫','裙子','外套','凉鞋','汗衫','运动鞋','包包','靴子']\n",
    "print(f'这张图片对应的标签是 {labellist[imagedemolabel]}')"
   ]
  },
  {
   "cell_type": "code",
   "execution_count": 6,
   "metadata": {},
   "outputs": [],
   "source": [
    "image, label = next(iter(trainloader))"
   ]
  },
  {
   "cell_type": "code",
   "execution_count": 7,
   "metadata": {},
   "outputs": [
    {
     "data": {
      "text/plain": [
       "torch.Size([64, 1, 28, 28])"
      ]
     },
     "execution_count": 7,
     "metadata": {},
     "output_type": "execute_result"
    }
   ],
   "source": [
    "image.shape"
   ]
  },
  {
   "cell_type": "code",
   "execution_count": 8,
   "metadata": {},
   "outputs": [
    {
     "data": {
      "text/plain": [
       "tensor([6, 8, 8, 2, 7, 2, 0, 7, 3, 6, 4, 5, 0, 8, 7, 2, 1, 1, 1, 1, 2, 3, 8, 0,\n",
       "        7, 2, 2, 4, 5, 1, 9, 2, 4, 7, 7, 8, 6, 8, 3, 5, 3, 1, 1, 4, 4, 0, 3, 8,\n",
       "        4, 4, 7, 9, 7, 3, 7, 6, 7, 5, 6, 0, 5, 7, 1, 5])"
      ]
     },
     "execution_count": 8,
     "metadata": {},
     "output_type": "execute_result"
    }
   ],
   "source": [
    "label"
   ]
  },
  {
   "cell_type": "markdown",
   "metadata": {},
   "source": [
    "label包含了image裡面64張圖片對應的標籤\n",
    "\n",
    "| 標註編號 | 描述 |\n",
    "| --- | --- |\n",
    "| 0 | T-shirt/top（T卹）|\n",
    "| 1 | Trouser（褲子）|\n",
    "| 2 | Pullover（套衫）|\n",
    "| 3 | Dress（裙子）|\n",
    "| 4 | Coat（外套）|\n",
    "| 5 | Sandal（涼鞋）|\n",
    "| 6 | Shirt（汗衫）|\n",
    "| 7 | Sneaker（運動鞋）|\n",
    "| 8 | Bag（包）|\n",
    "| 9 | Ankle boot（踝靴）|"
   ]
  },
  {
   "cell_type": "code",
   "execution_count": 9,
   "metadata": {},
   "outputs": [],
   "source": [
    "imagedemo = image[2]\n",
    "imagedemolabel = label[2]"
   ]
  },
  {
   "cell_type": "code",
   "execution_count": 10,
   "metadata": {},
   "outputs": [
    {
     "data": {
      "text/plain": [
       "torch.Size([1, 28, 28])"
      ]
     },
     "execution_count": 10,
     "metadata": {},
     "output_type": "execute_result"
    }
   ],
   "source": [
    "imagedemo.shape"
   ]
  },
  {
   "cell_type": "code",
   "execution_count": 11,
   "metadata": {},
   "outputs": [],
   "source": [
    "imagedemo = imagedemo.reshape((28,28))"
   ]
  },
  {
   "cell_type": "code",
   "execution_count": 12,
   "metadata": {},
   "outputs": [
    {
     "data": {
      "text/plain": [
       "torch.Size([28, 28])"
      ]
     },
     "execution_count": 12,
     "metadata": {},
     "output_type": "execute_result"
    }
   ],
   "source": [
    "imagedemo.shape"
   ]
  },
  {
   "cell_type": "code",
   "execution_count": 13,
   "metadata": {},
   "outputs": [
    {
     "data": {
      "text/plain": [
       "tensor(8)"
      ]
     },
     "execution_count": 13,
     "metadata": {},
     "output_type": "execute_result"
    }
   ],
   "source": [
    "imagedemolabel"
   ]
  },
  {
   "cell_type": "code",
   "execution_count": 14,
   "metadata": {},
   "outputs": [
    {
     "name": "stdout",
     "output_type": "stream",
     "text": [
      "这张图片对应的标签是 包包\n"
     ]
    },
    {
     "data": {
      "image/png": "[encoded data removed]",
      "text/plain": [
       "<Figure size 432x288 with 1 Axes>"
      ]
     },
     "metadata": {
      "needs_background": "light"
     },
     "output_type": "display_data"
    }
   ],
   "source": [
    "plt.imshow(imagedemo)\n",
    "\n",
    "labellist = ['T恤','裤子','套衫','裙子','外套','凉鞋','汗衫','运动鞋','包包','靴子']\n",
    "print(f'这张图片对应的标签是 {labellist[imagedemolabel]}')"
   ]
  },
  {
   "cell_type": "code",
   "execution_count": 15,
   "metadata": {},
   "outputs": [
    {
     "name": "stdout",
     "output_type": "stream",
     "text": [
      "这张图片对应的标签是 靴子\n"
     ]
    },
    {
     "data": {
      "image/png": "[encoded data removed]",
      "text/plain": [
       "<Figure size 432x288 with 1 Axes>"
      ]
     },
     "metadata": {
      "needs_background": "light"
     },
     "output_type": "display_data"
    }
   ],
   "source": [
    "image, label = next(iter(trainloader))\n",
    "\n",
    "# image图片中有64张图片，我们查看索引为2的图片\n",
    "imagedemo = image[3]\n",
    "imagedemolabel = label[3]\n",
    "\n",
    "imagedemo = imagedemo.reshape((28,28))\n",
    "\n",
    "import matplotlib.pyplot as plt\n",
    "%matplotlib inline\n",
    "plt.imshow(imagedemo)\n",
    "\n",
    "labellist = ['T恤','裤子','套衫','裙子','外套','凉鞋','汗衫','运动鞋','包包','靴子']\n",
    "print(f'这张图片对应的标签是 {labellist[imagedemolabel]}')"
   ]
  },
  {
   "cell_type": "code",
   "execution_count": 16,
   "metadata": {},
   "outputs": [],
   "source": [
    "class Classifier(nn.Module):\n",
    "    def __init__(self):\n",
    "        super().__init__()\n",
    "        self.fc1 = nn.Linear(784, 256)\n",
    "        self.fc2 = nn.Linear(256, 128)\n",
    "        self.fc3 = nn.Linear(128, 64)\n",
    "        self.fc4 = nn.Linear(64, 10)\n",
    "        \n",
    "        # 构造Dropout方法，在每次训练过程中都随机“掐死”百分之二十的神经元，防止过拟合。\n",
    "        self.dropout = nn.Dropout(p=0.2)\n",
    "        \n",
    "    def forward(self, x):\n",
    "        # 确保输入的tensor是展开的单列数据，把每张图片的通道、长度、宽度三个维度都压缩为一列\n",
    "        x = x.view(x.shape[0], -1)\n",
    "        \n",
    "        # 在训练过程中对隐含层神经元的正向推断使用Dropout方法\n",
    "        x = self.dropout(F.relu(self.fc1(x)))\n",
    "        x = self.dropout(F.relu(self.fc2(x)))\n",
    "        x = self.dropout(F.relu(self.fc3(x)))\n",
    "        \n",
    "        # 在输出单元不需要使用Dropout方法\n",
    "        x = F.log_softmax(self.fc4(x), dim=1)\n",
    "        \n",
    "        return x"
   ]
  },
  {
   "cell_type": "code",
   "execution_count": 20,
   "metadata": {},
   "outputs": [],
   "source": [
    "# Create CNN Model\n",
    "class CNN_Model(nn.Module):\n",
    "    def __init__(self):\n",
    "        super(CNN_Model, self).__init__()\n",
    "        # Convolution 1 , input_shape=(1,28,28)\n",
    "        self.cnn1 = nn.Conv2d(in_channels=1, out_channels=16, kernel_size=5, stride=1, padding=0) #output_shape=(16,24,24)\n",
    "        self.relu1 = nn.ReLU() # activation\n",
    "        # Max pool 1\n",
    "        self.maxpool1 = nn.MaxPool2d(kernel_size=2) #output_shape=(16,12,12)\n",
    "        # Convolution 2\n",
    "        self.cnn2 = nn.Conv2d(in_channels=16, out_channels=32, kernel_size=5, stride=1, padding=0) #output_shape=(32,8,8)\n",
    "        self.relu2 = nn.ReLU() # activation\n",
    "        # Max pool 2\n",
    "        self.maxpool2 = nn.MaxPool2d(kernel_size=2) #output_shape=(32,4,4)\n",
    "        # Fully connected 1 ,#input_shape=(32*4*4)\n",
    "        self.fc1 = nn.Linear(32 * 4 * 4, 10) \n",
    "    \n",
    "    def forward(self, x):\n",
    "        # Convolution 1\n",
    "        out = self.cnn1(x)\n",
    "        out = self.relu1(out)\n",
    "        # Max pool 1\n",
    "        out = self.maxpool1(out)\n",
    "        # Convolution 2 \n",
    "        out = self.cnn2(out)\n",
    "        out = self.relu2(out)\n",
    "        # Max pool 2 \n",
    "        out = self.maxpool2(out)\n",
    "        out = out.view(out.size(0), -1)\n",
    "        # Linear function (readout)\n",
    "        out = self.fc1(out)\n",
    "        return out"
   ]
  },
  {
   "cell_type": "code",
   "execution_count": null,
   "metadata": {},
   "outputs": [],
   "source": []
  },
  {
   "cell_type": "code",
   "execution_count": 21,
   "metadata": {},
   "outputs": [
    {
     "name": "stdout",
     "output_type": "stream",
     "text": [
      "CNN_Model(\n",
      "  (cnn1): Conv2d(1, 16, kernel_size=(5, 5), stride=(1, 1))\n",
      "  (relu1): ReLU()\n",
      "  (maxpool1): MaxPool2d(kernel_size=2, stride=2, padding=0, dilation=1, ceil_mode=False)\n",
      "  (cnn2): Conv2d(16, 32, kernel_size=(5, 5), stride=(1, 1))\n",
      "  (relu2): ReLU()\n",
      "  (maxpool2): MaxPool2d(kernel_size=2, stride=2, padding=0, dilation=1, ceil_mode=False)\n",
      "  (fc1): Linear(in_features=512, out_features=10, bias=True)\n",
      ")\n"
     ]
    },
    {
     "ename": "NameError",
     "evalue": "name 'LR' is not defined",
     "output_type": "error",
     "traceback": [
      "\u001b[0;31m---------------------------------------------------------------------------\u001b[0m",
      "\u001b[0;31mNameError\u001b[0m                                 Traceback (most recent call last)",
      "\u001b[0;32m<ipython-input-21-0ed3f8f699bc>\u001b[0m in \u001b[0;36m<module>\u001b[0;34m\u001b[0m\n\u001b[1;32m      1\u001b[0m \u001b[0mmodel\u001b[0m \u001b[0;34m=\u001b[0m \u001b[0mCNN_Model\u001b[0m\u001b[0;34m(\u001b[0m\u001b[0;34m)\u001b[0m\u001b[0;34m\u001b[0m\u001b[0;34m\u001b[0m\u001b[0m\n\u001b[1;32m      2\u001b[0m \u001b[0mprint\u001b[0m\u001b[0;34m(\u001b[0m\u001b[0mmodel\u001b[0m\u001b[0;34m)\u001b[0m\u001b[0;34m\u001b[0m\u001b[0;34m\u001b[0m\u001b[0m\n\u001b[0;32m----> 3\u001b[0;31m \u001b[0moptimizer\u001b[0m \u001b[0;34m=\u001b[0m \u001b[0mtorch\u001b[0m\u001b[0;34m.\u001b[0m\u001b[0moptim\u001b[0m\u001b[0;34m.\u001b[0m\u001b[0mAdam\u001b[0m\u001b[0;34m(\u001b[0m\u001b[0mmodel\u001b[0m\u001b[0;34m.\u001b[0m\u001b[0mparameters\u001b[0m\u001b[0;34m(\u001b[0m\u001b[0;34m)\u001b[0m\u001b[0;34m,\u001b[0m \u001b[0mlr\u001b[0m\u001b[0;34m=\u001b[0m\u001b[0mLR\u001b[0m\u001b[0;34m)\u001b[0m   \u001b[0;31m# optimize all cnn parameters\u001b[0m\u001b[0;34m\u001b[0m\u001b[0;34m\u001b[0m\u001b[0m\n\u001b[0m\u001b[1;32m      4\u001b[0m \u001b[0mloss_func\u001b[0m \u001b[0;34m=\u001b[0m \u001b[0mnn\u001b[0m\u001b[0;34m.\u001b[0m\u001b[0mCrossEntropyLoss\u001b[0m\u001b[0;34m(\u001b[0m\u001b[0;34m)\u001b[0m   \u001b[0;31m# the target label is not one-hotted\u001b[0m\u001b[0;34m\u001b[0m\u001b[0;34m\u001b[0m\u001b[0m\n",
      "\u001b[0;31mNameError\u001b[0m: name 'LR' is not defined"
     ]
    }
   ],
   "source": [
    "model = CNN_Model()\n",
    "print(model)\n",
    "optimizer = torch.optim.Adam(model.parameters(), lr=LR)   # optimize all cnn parameters\n",
    "loss_func = nn.CrossEntropyLoss()   # the target label is not one-hotted"
   ]
  },
  {
   "cell_type": "code",
   "execution_count": 17,
   "metadata": {},
   "outputs": [
    {
     "name": "stdout",
     "output_type": "stream",
     "text": [
      "开始训练\n",
      "训练集学习次数: 1/15..  训练误差: 0.601..  测试误差: 0.485..  模型分类准确率: 0.825\n",
      "训练集学习次数: 2/15..  训练误差: 0.479..  测试误差: 0.421..  模型分类准确率: 0.848\n",
      "训练集学习次数: 3/15..  训练误差: 0.453..  测试误差: 0.424..  模型分类准确率: 0.845\n",
      "训练集学习次数: 4/15..  训练误差: 0.431..  测试误差: 0.425..  模型分类准确率: 0.846\n",
      "训练集学习次数: 5/15..  训练误差: 0.430..  测试误差: 0.454..  模型分类准确率: 0.836\n",
      "训练集学习次数: 6/15..  训练误差: 0.409..  测试误差: 0.394..  模型分类准确率: 0.860\n",
      "训练集学习次数: 7/15..  训练误差: 0.411..  测试误差: 0.409..  模型分类准确率: 0.852\n",
      "训练集学习次数: 8/15..  训练误差: 0.399..  测试误差: 0.414..  模型分类准确率: 0.856\n",
      "训练集学习次数: 9/15..  训练误差: 0.396..  测试误差: 0.386..  模型分类准确率: 0.869\n",
      "训练集学习次数: 10/15..  训练误差: 0.389..  测试误差: 0.385..  模型分类准确率: 0.863\n",
      "训练集学习次数: 11/15..  训练误差: 0.391..  测试误差: 0.394..  模型分类准确率: 0.863\n",
      "训练集学习次数: 12/15..  训练误差: 0.386..  测试误差: 0.382..  模型分类准确率: 0.862\n",
      "训练集学习次数: 13/15..  训练误差: 0.375..  测试误差: 0.393..  模型分类准确率: 0.864\n",
      "训练集学习次数: 14/15..  训练误差: 0.378..  测试误差: 0.379..  模型分类准确率: 0.865\n",
      "训练集学习次数: 15/15..  训练误差: 0.366..  测试误差: 0.372..  模型分类准确率: 0.870\n"
     ]
    }
   ],
   "source": [
    "# 对上面定义的Classifier类进行实例化\n",
    "model = Classifier()\n",
    "\n",
    "# 定义损失函数为负对数损失函数\n",
    "criterion = nn.NLLLoss()\n",
    "\n",
    "# 优化方法为Adam梯度下降方法，学习率为0.003\n",
    "optimizer = optim.Adam(model.parameters(), lr=0.003)\n",
    "\n",
    "# 对训练集的全部数据学习15遍，这个数字越大，训练时间越长\n",
    "epochs = 15\n",
    "\n",
    "# 将每次训练的训练误差和测试误差存储在这两个列表里，后面绘制误差变化折线图用\n",
    "train_losses, test_losses = [], []\n",
    "\n",
    "print('开始训练')\n",
    "for e in range(epochs):\n",
    "    running_loss = 0\n",
    "    \n",
    "    # 对训练集中的所有图片都过一遍\n",
    "    for images, labels in trainloader:\n",
    "        # 将优化器中的求导结果都设为0，否则会在每次反向传播之后叠加之前的\n",
    "        optimizer.zero_grad()\n",
    "        \n",
    "        # 对64张图片进行推断，计算损失函数，反向传播优化权重，将损失求和\n",
    "        log_ps = model(images)\n",
    "        loss = criterion(log_ps, labels)\n",
    "        loss.backward()\n",
    "        optimizer.step()\n",
    "        running_loss += loss.item()\n",
    "    \n",
    "    # 每次学完一遍数据集，都进行以下测试操作\n",
    "    else:\n",
    "        test_loss = 0\n",
    "        accuracy = 0\n",
    "        # 测试的时候不需要开自动求导和反向传播\n",
    "        with torch.no_grad():\n",
    "            # 关闭Dropout\n",
    "            model.eval()\n",
    "            \n",
    "            # 对测试集中的所有图片都过一遍\n",
    "            for images, labels in testloader:\n",
    "                # 对传入的测试集图片进行正向推断、计算损失，accuracy为测试集一万张图片中模型预测正确率\n",
    "                log_ps = model(images)\n",
    "                test_loss += criterion(log_ps, labels)\n",
    "                ps = torch.exp(log_ps)\n",
    "                top_p, top_class = ps.topk(1, dim=1)\n",
    "                equals = top_class == labels.view(*top_class.shape)\n",
    "                \n",
    "                # 等号右边为每一批64张测试图片中预测正确的占比\n",
    "                accuracy += torch.mean(equals.type(torch.FloatTensor))\n",
    "        # 恢复Dropout\n",
    "        model.train()\n",
    "        # 将训练误差和测试误差存在两个列表里，后面绘制误差变化折线图用\n",
    "        train_losses.append(running_loss/len(trainloader))\n",
    "        test_losses.append(test_loss/len(testloader))\n",
    "\n",
    "        print(\"训练集学习次数: {}/{}.. \".format(e+1, epochs),\n",
    "              \"训练误差: {:.3f}.. \".format(running_loss/len(trainloader)),\n",
    "              \"测试误差: {:.3f}.. \".format(test_loss/len(testloader)),\n",
    "              \"模型分类准确率: {:.3f}\".format(accuracy/len(testloader)))"
   ]
  },
  {
   "cell_type": "code",
   "execution_count": 18,
   "metadata": {},
   "outputs": [
    {
     "data": {
      "text/plain": [
       "<matplotlib.legend.Legend at 0x12735ac50>"
      ]
     },
     "execution_count": 18,
     "metadata": {},
     "output_type": "execute_result"
    },
    {
     "data": {
      "image/png": "[encoded data removed]",
      "text/plain": [
       "<Figure size 432x288 with 1 Axes>"
      ]
     },
     "metadata": {
      "needs_background": "light"
     },
     "output_type": "display_data"
    }
   ],
   "source": [
    "plt.plot(train_losses, label='Training loss')\n",
    "plt.plot(test_losses, label='Validation loss')\n",
    "plt.legend()"
   ]
  },
  {
   "cell_type": "code",
   "execution_count": 19,
   "metadata": {},
   "outputs": [
    {
     "name": "stdout",
     "output_type": "stream",
     "text": [
      "神经网络猜测图片里是 外套，概率为34.2869907617569%\n"
     ]
    },
    {
     "data": {
      "image/png": "[encoded data removed]",
      "text/plain": [
       "<Figure size 432x288 with 1 Axes>"
      ]
     },
     "metadata": {
      "needs_background": "light"
     },
     "output_type": "display_data"
    }
   ],
   "source": [
    "model.eval()\n",
    "dataiter = iter(testloader)\n",
    "images, labels = dataiter.next()\n",
    "img = images[0]\n",
    "img = img.reshape((28,28)).numpy()\n",
    "plt.imshow(img)\n",
    "\n",
    "# 将测试图片转为一维的列向量\n",
    "img = torch.from_numpy(img)\n",
    "img = img.view(1, 784)\n",
    "\n",
    "# 进行正向推断，预测图片所在的类别\n",
    "with torch.no_grad():\n",
    "    output = model.forward(img)\n",
    "ps = torch.exp(output)\n",
    "\n",
    "top_p, top_class = ps.topk(1, dim=1)\n",
    "labellist = ['T恤','裤子','套衫','裙子','外套','凉鞋','汗衫','运动鞋','包包','靴子']\n",
    "prediction = labellist[top_class]\n",
    "probability = float(top_p)\n",
    "print(f'神经网络猜测图片里是 {prediction}，概率为{probability*100}%')"
   ]
  },
  {
   "cell_type": "code",
   "execution_count": null,
   "metadata": {},
   "outputs": [],
   "source": []
  }
 ],
 "metadata": {
  "kernelspec": {
   "display_name": "Python 3",
   "language": "python",
   "name": "python3"
  },
  "language_info": {
   "codemirror_mode": {
    "name": "ipython",
    "version": 3
   },
   "file_extension": ".py",
   "mimetype": "text/x-python",
   "name": "python",
   "nbconvert_exporter": "python",
   "pygments_lexer": "ipython3",
   "version": "3.7.4"
  }
 },
 "nbformat": 4,
 "nbformat_minor": 2
}
