{
 "cells": [
  {
   "cell_type": "markdown",
   "metadata": {},
   "source": [
    "## 概要\n",
    "本课，你将通过业界知名的深度学习框架pytorch搭建四层全连接神经网络，分析Fashion-MNIST数据集中的六万张训练集图片和一万张测试集图片，观察训练误差和验证误差随训练代数提高的变化。\n",
    "首先搭建普通的四层全连接神经网络，训练后发现过拟合明显。\n",
    "通过Dropout方法，减少过拟合。\n",
    "你将掌握图像多分类、准确率与误差分析、搭建全连接神经网络并通过Adam算法进行梯度下降训练，最重要的是，熟悉pytorch这一简洁明快的深度学习工具。\n",
    "\n",
    "Github：[zihaopytorch](https://github.com/TommyZihao/zihaopytorch)<br>\n",
    "\n",
    "![Fashion-MNIST时尚物品数据集](https://upload-images.jianshu.io/upload_images/13714448-e0d2b1be2bb1702e.png?imageMogr2/auto-orient/strip%7CimageView2/2/w/1240)\n",
    "\n",
    "## 作者\n",
    "\n",
    "张子豪 同济大学研究生 2019-06-06\n",
    "\n",
    "Bilibili视频教程：[同济子豪兄](https://space.bilibili.com/1900783/#/)<br>\n",
    "\n",
    "知乎专栏：[人工智能小技巧](https://zhuanlan.zhihu.com/c_1032626015746502656)<br>\n",
    "\n",
    "简书专栏：[人工智能小技巧](https://www.jianshu.com/u/38cccf09b515)<br>\n"
   ]
  },
  {
   "cell_type": "code",
   "execution_count": 1,
   "metadata": {},
   "outputs": [],
   "source": [
    "import torch"
   ]
  },
  {
   "cell_type": "code",
   "execution_count": 2,
   "metadata": {
    "scrolled": true
   },
   "outputs": [
    {
     "data": {
      "text/plain": [
       "'1.3.1'"
      ]
     },
     "execution_count": 2,
     "metadata": {},
     "output_type": "execute_result"
    }
   ],
   "source": [
    "torch.__version__"
   ]
  },
  {
   "cell_type": "markdown",
   "metadata": {},
   "source": [
    "# 1 下载Fasion-MNIST数据集"
   ]
  },
  {
   "cell_type": "markdown",
   "metadata": {},
   "source": [
    "`Fashion-MNIST`是一个替代原始的[MNIST手写数字数据集](http://yann.lecun.com/exdb/mnist/)的`另一个`图像数据集。 它是由Zalando（一家德国的时尚科技公司）旗下的[研究部门](https://research.zalando.com/)提供。其涵盖了来自10种类别的共7万个不同商品的正面图片。Fashion-MNIST的大小、格式和训练集/测试集划分与原始的MNIST完全一致。60000/10000的训练测试数据划分，28x28的灰度图片。你可以直接用它来测试你的机器学习和深度学习算法性能，且**不需要**改动任何的代码。\n",
    "\n",
    "Fashion-MNIST 数据集的[中文文档说明](https://github.com/zalandoresearch/fashion-mnist/blob/master/README.zh-CN.md)\n"
   ]
  },
  {
   "cell_type": "code",
   "execution_count": 3,
   "metadata": {},
   "outputs": [],
   "source": [
    "import torch  # 导入pytorch\n",
    "from torch import nn, optim  # 导入神经网络与优化器对应的类\n",
    "import torch.nn.functional as F \n",
    "from torchvision import datasets, transforms ## 导入数据集与数据预处理的方法"
   ]
  },
  {
   "cell_type": "code",
   "execution_count": 4,
   "metadata": {},
   "outputs": [
    {
     "name": "stderr",
     "output_type": "stream",
     "text": [
      "\r",
      "0it [00:00, ?it/s]"
     ]
    },
    {
     "name": "stdout",
     "output_type": "stream",
     "text": [
      "Downloading http://fashion-mnist.s3-website.eu-central-1.amazonaws.com/train-images-idx3-ubyte.gz to dataset/FashionMNIST/raw/train-images-idx3-ubyte.gz\n"
     ]
    },
    {
     "name": "stderr",
     "output_type": "stream",
     "text": [
      "100%|█████████▉| 26419200/26421880 [10:33<00:00, 36701.09it/s] "
     ]
    },
    {
     "name": "stdout",
     "output_type": "stream",
     "text": [
      "Extracting dataset/FashionMNIST/raw/train-images-idx3-ubyte.gz to dataset/FashionMNIST/raw\n"
     ]
    },
    {
     "name": "stderr",
     "output_type": "stream",
     "text": [
      "\n",
      "0it [00:00, ?it/s]\u001b[A"
     ]
    },
    {
     "name": "stdout",
     "output_type": "stream",
     "text": [
      "Downloading http://fashion-mnist.s3-website.eu-central-1.amazonaws.com/train-labels-idx1-ubyte.gz to dataset/FashionMNIST/raw/train-labels-idx1-ubyte.gz\n"
     ]
    },
    {
     "name": "stderr",
     "output_type": "stream",
     "text": [
      "\n",
      "  0%|          | 0/29515 [00:01<?, ?it/s]\u001b[A\n",
      "32768it [00:01, 22990.93it/s]                           \u001b[A\n",
      "\n",
      "0it [00:00, ?it/s]\u001b[A"
     ]
    },
    {
     "name": "stdout",
     "output_type": "stream",
     "text": [
      "Extracting dataset/FashionMNIST/raw/train-labels-idx1-ubyte.gz to dataset/FashionMNIST/raw\n",
      "Downloading http://fashion-mnist.s3-website.eu-central-1.amazonaws.com/t10k-images-idx3-ubyte.gz to dataset/FashionMNIST/raw/t10k-images-idx3-ubyte.gz\n"
     ]
    },
    {
     "name": "stderr",
     "output_type": "stream",
     "text": [
      "\n",
      "  0%|          | 0/4422102 [00:00<?, ?it/s]\u001b[A\n",
      "  0%|          | 16384/4422102 [00:01<01:29, 49333.20it/s]\u001b[A\n",
      "  1%|          | 49152/4422102 [00:01<01:14, 58589.80it/s]\u001b[A\n",
      "  2%|▏         | 98304/4422102 [00:01<01:07, 63918.01it/s]\u001b[A\n",
      "  5%|▍         | 212992/4422102 [00:02<00:49, 84724.72it/s]\u001b[A\n",
      "  8%|▊         | 352256/4422102 [00:02<00:36, 111597.96it/s]\u001b[A\n",
      " 11%|█▏        | 499712/4422102 [00:02<00:27, 143987.98it/s]\u001b[A\n",
      " 12%|█▏        | 532480/4422102 [00:03<00:30, 125574.23it/s]\u001b[A\n",
      " 16%|█▋        | 729088/4422102 [00:03<00:21, 174338.61it/s]\u001b[A\n",
      " 18%|█▊        | 802816/4422102 [00:03<00:18, 191008.95it/s]\u001b[A\n",
      " 20%|█▉        | 868352/4422102 [00:03<00:17, 203374.93it/s]\u001b[A\n",
      " 22%|██▏       | 966656/4422102 [00:04<00:14, 232249.25it/s]\u001b[A\n",
      " 23%|██▎       | 1032192/4422102 [00:04<00:11, 286132.05it/s]\u001b[A\n",
      " 25%|██▍       | 1097728/4422102 [00:04<00:11, 281357.13it/s]\u001b[A\n",
      " 27%|██▋       | 1179648/4422102 [00:04<00:09, 338069.75it/s]\u001b[A\n",
      " 28%|██▊       | 1236992/4422102 [00:04<00:09, 318797.71it/s]\u001b[A\n",
      " 30%|██▉       | 1318912/4422102 [00:05<00:08, 378303.90it/s]\u001b[A\n",
      " 31%|███       | 1376256/4422102 [00:05<00:08, 346972.33it/s]\u001b[A\n",
      " 32%|███▏      | 1425408/4422102 [00:05<00:18, 166133.24it/s]\u001b[A\n",
      " 36%|███▌      | 1589248/4422102 [00:06<00:13, 210231.11it/s]\u001b[A\n",
      " 38%|███▊      | 1695744/4422102 [00:06<00:11, 236188.20it/s]\u001b[A\n",
      " 39%|███▉      | 1736704/4422102 [00:06<00:15, 175464.56it/s]\u001b[A\n",
      " 42%|████▏     | 1867776/4422102 [00:07<00:11, 217590.60it/s]\u001b[A\n",
      " 44%|████▎     | 1933312/4422102 [00:07<00:09, 270673.38it/s]\u001b[A\n",
      " 45%|████▍     | 1982464/4422102 [00:07<00:10, 234599.53it/s]\u001b[A\n",
      " 46%|████▌     | 2031616/4422102 [00:07<00:11, 217151.60it/s]\u001b[A\n",
      " 47%|████▋     | 2097152/4422102 [00:07<00:08, 270839.55it/s]\u001b[A\n",
      " 48%|████▊     | 2138112/4422102 [00:08<00:10, 224637.16it/s]\u001b[A\n",
      " 50%|█████     | 2211840/4422102 [00:08<00:09, 236196.93it/s]\u001b[A\n",
      " 52%|█████▏    | 2285568/4422102 [00:08<00:07, 282318.45it/s]\u001b[A\n",
      " 53%|█████▎    | 2326528/4422102 [00:08<00:09, 230927.05it/s]\u001b[A\n",
      " 53%|█████▎    | 2359296/4422102 [00:09<00:12, 165431.59it/s]\u001b[A\n",
      " 56%|█████▌    | 2473984/4422102 [00:09<00:09, 200896.56it/s]\u001b[A\n",
      " 57%|█████▋    | 2531328/4422102 [00:09<00:07, 242434.23it/s]\u001b[A\n",
      " 58%|█████▊    | 2572288/4422102 [00:09<00:09, 204845.81it/s]\u001b[A\n",
      " 59%|█████▉    | 2613248/4422102 [00:09<00:08, 206320.55it/s]\u001b[A\n",
      " 60%|█████▉    | 2646016/4422102 [00:10<00:07, 223520.91it/s]\u001b[A\n",
      " 61%|██████    | 2695168/4422102 [00:10<00:07, 229680.88it/s]\u001b[A\n",
      " 62%|██████▏   | 2727936/4422102 [00:10<00:07, 240742.95it/s]\u001b[A\n",
      " 63%|██████▎   | 2785280/4422102 [00:10<00:06, 240782.95it/s]\u001b[A\n",
      " 64%|██████▍   | 2826240/4422102 [00:10<00:05, 274710.24it/s]\u001b[A\n",
      " 65%|██████▌   | 2875392/4422102 [00:10<00:05, 260268.70it/s]\u001b[A\n",
      " 66%|██████▌   | 2908160/4422102 [00:11<00:05, 275491.57it/s]\u001b[A\n",
      " 67%|██████▋   | 2965504/4422102 [00:11<00:05, 268744.08it/s]\u001b[A\n",
      " 68%|██████▊   | 3006464/4422102 [00:11<00:04, 295027.62it/s]\u001b[A\n",
      " 69%|██████▉   | 3055616/4422102 [00:11<00:05, 272121.32it/s]\u001b[A\n",
      " 70%|███████   | 3112960/4422102 [00:11<00:04, 316657.60it/s]\u001b[A\n",
      " 71%|███████▏  | 3153920/4422102 [00:11<00:04, 270434.04it/s]\u001b[A\n",
      " 72%|███████▏  | 3186688/4422102 [00:12<00:04, 278833.03it/s]\u001b[A\n",
      " 73%|███████▎  | 3235840/4422102 [00:12<00:03, 307128.62it/s]\u001b[A\n",
      " 74%|███████▍  | 3276800/4422102 [00:12<00:04, 256797.76it/s]\u001b[A\n",
      " 75%|███████▌  | 3334144/4422102 [00:12<00:03, 276479.16it/s]\u001b[A\n",
      " 76%|███████▌  | 3366912/4422102 [00:12<00:04, 261926.21it/s]\u001b[A\n",
      " 78%|███████▊  | 3432448/4422102 [00:12<00:03, 285888.23it/s]\u001b[A\n",
      " 78%|███████▊  | 3465216/4422102 [00:13<00:03, 251014.75it/s]\u001b[A\n",
      " 80%|███████▉  | 3530752/4422102 [00:13<00:03, 287447.91it/s]\u001b[A\n",
      " 81%|████████  | 3563520/4422102 [00:13<00:03, 252658.60it/s]\u001b[A\n",
      " 82%|████████▏ | 3629056/4422102 [00:13<00:02, 280993.56it/s]\u001b[A\n",
      " 83%|████████▎ | 3661824/4422102 [00:14<00:05, 148531.71it/s]\u001b[A\n",
      " 85%|████████▌ | 3768320/4422102 [00:14<00:03, 195737.81it/s]\u001b[A\n",
      " 86%|████████▌ | 3809280/4422102 [00:14<00:03, 198702.81it/s]\u001b[A\n",
      " 87%|████████▋ | 3850240/4422102 [00:14<00:03, 183220.64it/s]\u001b[A\n",
      " 88%|████████▊ | 3899392/4422102 [00:14<00:02, 222557.96it/s]\u001b[A\n",
      " 89%|████████▉ | 3940352/4422102 [00:14<00:02, 198354.76it/s]\u001b[A\n",
      "26427392it [10:50, 36701.09it/s]                              [A\n",
      " 91%|█████████ | 4030464/4422102 [00:15<00:01, 211295.82it/s]\u001b[A\n",
      " 92%|█████████▏| 4079616/4422102 [00:15<00:01, 252141.01it/s]\u001b[A\n",
      " 93%|█████████▎| 4112384/4422102 [00:15<00:01, 221704.96it/s]\u001b[A\n",
      " 94%|█████████▎| 4145152/4422102 [00:15<00:01, 159416.89it/s]\u001b[A\n",
      " 96%|█████████▌| 4243456/4422102 [00:16<00:00, 208411.53it/s]\u001b[A\n",
      " 97%|█████████▋| 4284416/4422102 [00:16<00:00, 214021.89it/s]\u001b[A\n",
      " 98%|█████████▊| 4325376/4422102 [00:16<00:00, 189840.16it/s]\u001b[A\n",
      " 99%|█████████▉| 4374528/4422102 [00:16<00:00, 218450.01it/s]\u001b[A\n",
      "100%|█████████▉| 4407296/4422102 [00:16<00:00, 192269.31it/s]\u001b[A\n",
      "\n",
      "0it [00:00, ?it/s]\u001b[A\u001b[A"
     ]
    },
    {
     "name": "stdout",
     "output_type": "stream",
     "text": [
      "Extracting dataset/FashionMNIST/raw/t10k-images-idx3-ubyte.gz to dataset/FashionMNIST/raw\n",
      "Downloading http://fashion-mnist.s3-website.eu-central-1.amazonaws.com/t10k-labels-idx1-ubyte.gz to dataset/FashionMNIST/raw/t10k-labels-idx1-ubyte.gz\n"
     ]
    },
    {
     "name": "stderr",
     "output_type": "stream",
     "text": [
      "\n",
      "\n",
      "8192it [00:00, 12589.32it/s]            \u001b[A\u001b[A"
     ]
    },
    {
     "name": "stdout",
     "output_type": "stream",
     "text": [
      "Extracting dataset/FashionMNIST/raw/t10k-labels-idx1-ubyte.gz to dataset/FashionMNIST/raw\n",
      "Processing...\n",
      "Done!\n"
     ]
    },
    {
     "name": "stderr",
     "output_type": "stream",
     "text": [
      "\n"
     ]
    }
   ],
   "source": [
    "# 数据预处理：标准化图像数据，使得灰度数据在-1到+1之间\n",
    "transform = transforms.Compose([transforms.ToTensor(),transforms.Normalize((0.5,), (0.5,))])\n",
    "\n",
    "# 下载Fashion-MNIST训练集数据，并构建训练集数据载入器trainloader,每次从训练集中载入64张图片，每次载入都打乱顺序\n",
    "trainset = datasets.FashionMNIST('dataset/', download=True, train=True, transform=transform)\n",
    "trainloader = torch.utils.data.DataLoader(trainset, batch_size=64, shuffle=True)\n",
    "\n",
    "# 下载Fashion-MNIST测试集数据，并构建测试集数据载入器trainloader,每次从测试集中载入64张图片，每次载入都打乱顺序\n",
    "testset = datasets.FashionMNIST('dataset/', download=True, train=False, transform=transform)\n",
    "testloader = torch.utils.data.DataLoader(testset, batch_size=64, shuffle=True)"
   ]
  },
  {
   "cell_type": "markdown",
   "metadata": {},
   "source": [
    "## 显示图片"
   ]
  },
  {
   "cell_type": "code",
   "execution_count": 5,
   "metadata": {
    "scrolled": false
   },
   "outputs": [
    {
     "name": "stdout",
     "output_type": "stream",
     "text": [
      "这张图片对应的标签是 裙子\n"
     ]
    },
    {
     "data": {
      "image/png": "[encoded data removed]",
      "text/plain": [
       "<Figure size 432x288 with 1 Axes>"
      ]
     },
     "metadata": {
      "needs_background": "light"
     },
     "output_type": "display_data"
    },
    {
     "name": "stderr",
     "output_type": "stream",
     "text": [
      "\n",
      "4423680it [00:35, 192269.31it/s]                             \u001b[A"
     ]
    }
   ],
   "source": [
    "image, label = next(iter(trainloader))\n",
    "\n",
    "# image图片中有64张图片，我们查看索引为2的图片\n",
    "imagedemo = image[3]\n",
    "imagedemolabel = label[3]\n",
    "\n",
    "imagedemo = imagedemo.reshape((28,28))\n",
    "\n",
    "import matplotlib.pyplot as plt\n",
    "%matplotlib inline\n",
    "plt.imshow(imagedemo)\n",
    "\n",
    "labellist = ['T恤','裤子','套衫','裙子','外套','凉鞋','汗衫','运动鞋','包包','靴子']\n",
    "print(f'这张图片对应的标签是 {labellist[imagedemolabel]}')"
   ]
  },
  {
   "cell_type": "markdown",
   "metadata": {},
   "source": [
    "# 2 打开数据集中的图片"
   ]
  },
  {
   "cell_type": "code",
   "execution_count": 6,
   "metadata": {},
   "outputs": [],
   "source": [
    "image, label = next(iter(trainloader))"
   ]
  },
  {
   "cell_type": "code",
   "execution_count": 7,
   "metadata": {},
   "outputs": [
    {
     "data": {
      "text/plain": [
       "torch.Size([64, 1, 28, 28])"
      ]
     },
     "execution_count": 7,
     "metadata": {},
     "output_type": "execute_result"
    }
   ],
   "source": [
    "image.shape"
   ]
  },
  {
   "cell_type": "markdown",
   "metadata": {},
   "source": [
    "image包含了64张28 * 28的灰度图片，1代表单通道，也就是灰度"
   ]
  },
  {
   "cell_type": "code",
   "execution_count": 8,
   "metadata": {},
   "outputs": [
    {
     "data": {
      "text/plain": [
       "tensor([8, 9, 6, 1, 4, 1, 2, 2, 8, 3, 1, 6, 3, 1, 4, 1, 0, 8, 5, 5, 7, 1, 5, 8,\n",
       "        7, 1, 7, 4, 6, 0, 1, 6, 2, 9, 0, 3, 3, 5, 8, 8, 1, 9, 3, 2, 3, 7, 9, 9,\n",
       "        3, 4, 8, 7, 1, 8, 6, 4, 1, 6, 9, 7, 2, 4, 3, 1])"
      ]
     },
     "execution_count": 8,
     "metadata": {},
     "output_type": "execute_result"
    }
   ],
   "source": [
    "label"
   ]
  },
  {
   "cell_type": "markdown",
   "metadata": {},
   "source": [
    "label包含了image裡面64張圖片對應的標籤\n",
    "\n",
    "| 標註編號 | 描述 |\n",
    "| --- | --- |\n",
    "| 0 | T-shirt/top（T卹）|\n",
    "| 1 | Trouser（褲子）|\n",
    "| 2 | Pullover（套衫）|\n",
    "| 3 | Dress（裙子）|\n",
    "| 4 | Coat（外套）|\n",
    "| 5 | Sandal（涼鞋）|\n",
    "| 6 | Shirt（汗衫）|\n",
    "| 7 | Sneaker（運動鞋）|\n",
    "| 8 | Bag（包）|\n",
    "| 9 | Ankle boot（踝靴）|"
   ]
  },
  {
   "cell_type": "markdown",
   "metadata": {},
   "source": [
    "## 打开训练集中的一张图片看看"
   ]
  },
  {
   "cell_type": "code",
   "execution_count": 9,
   "metadata": {},
   "outputs": [],
   "source": [
    "imagedemo = image[2]\n",
    "imagedemolabel = label[2]"
   ]
  },
  {
   "cell_type": "code",
   "execution_count": 10,
   "metadata": {},
   "outputs": [
    {
     "data": {
      "text/plain": [
       "torch.Size([1, 28, 28])"
      ]
     },
     "execution_count": 10,
     "metadata": {},
     "output_type": "execute_result"
    }
   ],
   "source": [
    "imagedemo.shape"
   ]
  },
  {
   "cell_type": "code",
   "execution_count": 11,
   "metadata": {},
   "outputs": [],
   "source": [
    "imagedemo = imagedemo.reshape((28,28))"
   ]
  },
  {
   "cell_type": "code",
   "execution_count": 12,
   "metadata": {},
   "outputs": [
    {
     "data": {
      "text/plain": [
       "torch.Size([28, 28])"
      ]
     },
     "execution_count": 12,
     "metadata": {},
     "output_type": "execute_result"
    }
   ],
   "source": [
    "imagedemo.shape"
   ]
  },
  {
   "cell_type": "code",
   "execution_count": 13,
   "metadata": {},
   "outputs": [
    {
     "data": {
      "text/plain": [
       "tensor(6)"
      ]
     },
     "execution_count": 13,
     "metadata": {},
     "output_type": "execute_result"
    }
   ],
   "source": [
    "imagedemolabel"
   ]
  },
  {
   "cell_type": "code",
   "execution_count": 14,
   "metadata": {},
   "outputs": [],
   "source": [
    "import matplotlib.pyplot as plt\n",
    "%matplotlib inline"
   ]
  },
  {
   "cell_type": "code",
   "execution_count": 15,
   "metadata": {
    "scrolled": true
   },
   "outputs": [
    {
     "name": "stdout",
     "output_type": "stream",
     "text": [
      "这张图片对应的标签是 汗衫\n"
     ]
    },
    {
     "data": {
      "image/png": "[encoded data removed]",
      "text/plain": [
       "<Figure size 432x288 with 1 Axes>"
      ]
     },
     "metadata": {
      "needs_background": "light"
     },
     "output_type": "display_data"
    }
   ],
   "source": [
    "plt.imshow(imagedemo)\n",
    "\n",
    "labellist = ['T恤','裤子','套衫','裙子','外套','凉鞋','汗衫','运动鞋','包包','靴子']\n",
    "print(f'这张图片对应的标签是 {labellist[imagedemolabel]}')"
   ]
  },
  {
   "cell_type": "markdown",
   "metadata": {},
   "source": [
    "## 查看一张图片和标签完整的代码"
   ]
  },
  {
   "cell_type": "code",
   "execution_count": 16,
   "metadata": {
    "scrolled": false
   },
   "outputs": [
    {
     "name": "stdout",
     "output_type": "stream",
     "text": [
      "这张图片对应的标签是 T恤\n"
     ]
    },
    {
     "data": {
      "image/png": "[encoded data removed]",
      "text/plain": [
       "<Figure size 432x288 with 1 Axes>"
      ]
     },
     "metadata": {
      "needs_background": "light"
     },
     "output_type": "display_data"
    }
   ],
   "source": [
    "image, label = next(iter(trainloader))\n",
    "\n",
    "# image图片中有64张图片，我们查看索引为2的图片\n",
    "imagedemo = image[3]\n",
    "imagedemolabel = label[3]\n",
    "\n",
    "imagedemo = imagedemo.reshape((28,28))\n",
    "\n",
    "import matplotlib.pyplot as plt\n",
    "%matplotlib inline\n",
    "plt.imshow(imagedemo)\n",
    "\n",
    "labellist = ['T恤','裤子','套衫','裙子','外套','凉鞋','汗衫','运动鞋','包包','靴子']\n",
    "print(f'这张图片对应的标签是 {labellist[imagedemolabel]}')"
   ]
  },
  {
   "cell_type": "markdown",
   "metadata": {},
   "source": [
    "# 2 搭建並訓練四層全連接神經網絡\n",
    "\n",
    "神經網絡的輸入為28 * 28 = 784 個像素<br>\n",
    "第一個隱含層包含256個神經元<br>\n",
    "第二個隱含層包含128個神經元<br>\n",
    "第三個隱含層包含64個神經元<br>\n",
    "輸出層輸出10個結果，對應圖片的10種分類<br>"
   ]
  },
  {
   "cell_type": "markdown",
   "metadata": {},
   "source": [
    "![全连接神经网络](https://upload-images.jianshu.io/upload_images/13714448-c8b5fa11504798bf.png?imageMogr2/auto-orient/strip%7CimageView2/2/w/1240)"
   ]
  },
  {
   "cell_type": "code",
   "execution_count": 17,
   "metadata": {},
   "outputs": [],
   "source": [
    "from torch import nn, optim\n",
    "import torch.nn.functional as F\n",
    "\n",
    "class Classifier(nn.Module):\n",
    "    def __init__(self):\n",
    "        super().__init__()\n",
    "        self.fc1 = nn.Linear(784, 256)\n",
    "        self.fc2 = nn.Linear(256, 128)\n",
    "        self.fc3 = nn.Linear(128, 64)\n",
    "        self.fc4 = nn.Linear(64, 10)\n",
    "        \n",
    "    def forward(self, x):\n",
    "        # make sure input tensor is flattened\n",
    "        x = x.view(x.shape[0], -1)\n",
    "        \n",
    "        x = F.relu(self.fc1(x))\n",
    "        x = F.relu(self.fc2(x))\n",
    "        x = F.relu(self.fc3(x))\n",
    "        x = F.log_softmax(self.fc4(x), dim=1)\n",
    "        \n",
    "        return x"
   ]
  },
  {
   "cell_type": "code",
   "execution_count": 18,
   "metadata": {
    "scrolled": false
   },
   "outputs": [
    {
     "name": "stdout",
     "output_type": "stream",
     "text": [
      "开始训练\n",
      "训练集学习次数: 1/15..  训练误差: 0.514..  测试误差: 0.450..  模型分类准确率: 0.835\n",
      "训练集学习次数: 2/15..  训练误差: 0.391..  测试误差: 0.409..  模型分类准确率: 0.851\n",
      "训练集学习次数: 3/15..  训练误差: 0.358..  测试误差: 0.388..  模型分类准确率: 0.861\n",
      "训练集学习次数: 4/15..  训练误差: 0.333..  测试误差: 0.400..  模型分类准确率: 0.855\n",
      "训练集学习次数: 5/15..  训练误差: 0.315..  测试误差: 0.369..  模型分类准确率: 0.869\n",
      "训练集学习次数: 6/15..  训练误差: 0.304..  测试误差: 0.389..  模型分类准确率: 0.868\n",
      "训练集学习次数: 7/15..  训练误差: 0.296..  测试误差: 0.351..  模型分类准确率: 0.874\n",
      "训练集学习次数: 8/15..  训练误差: 0.285..  测试误差: 0.357..  模型分类准确率: 0.877\n",
      "训练集学习次数: 9/15..  训练误差: 0.273..  测试误差: 0.378..  模型分类准确率: 0.871\n",
      "训练集学习次数: 10/15..  训练误差: 0.267..  测试误差: 0.368..  模型分类准确率: 0.874\n",
      "训练集学习次数: 11/15..  训练误差: 0.260..  测试误差: 0.372..  模型分类准确率: 0.876\n",
      "训练集学习次数: 12/15..  训练误差: 0.256..  测试误差: 0.374..  模型分类准确率: 0.877\n",
      "训练集学习次数: 13/15..  训练误差: 0.247..  测试误差: 0.413..  模型分类准确率: 0.870\n",
      "训练集学习次数: 14/15..  训练误差: 0.242..  测试误差: 0.385..  模型分类准确率: 0.876\n",
      "训练集学习次数: 15/15..  训练误差: 0.235..  测试误差: 0.367..  模型分类准确率: 0.877\n"
     ]
    }
   ],
   "source": [
    "# 对上面定义的Classifier类进行实例化\n",
    "model = Classifier()\n",
    "\n",
    "# 定义损失函数为负对数损失函数\n",
    "criterion = nn.NLLLoss()\n",
    "\n",
    "# 优化方法为Adam梯度下降方法，学习率为0.003\n",
    "optimizer = optim.Adam(model.parameters(), lr=0.003)\n",
    "\n",
    "# 对训练集的全部数据学习15遍，这个数字越大，训练时间越长\n",
    "epochs = 15\n",
    "\n",
    "# 将每次训练的训练误差和测试误差存储在这两个列表里，后面绘制误差变化折线图用\n",
    "train_losses, test_losses = [], []\n",
    "\n",
    "print('开始训练')\n",
    "for e in range(epochs):\n",
    "    running_loss = 0\n",
    "    \n",
    "    # 对训练集中的所有图片都过一遍\n",
    "    for images, labels in trainloader:\n",
    "        # 将优化器中的求导结果都设为0，否则会在每次反向传播之后叠加之前的\n",
    "        optimizer.zero_grad()\n",
    "        \n",
    "        # 对64张图片进行推断，计算损失函数，反向传播优化权重，将损失求和\n",
    "        log_ps = model(images)\n",
    "        loss = criterion(log_ps, labels)\n",
    "        loss.backward()\n",
    "        optimizer.step()\n",
    "        running_loss += loss.item()\n",
    "    \n",
    "    # 每次学完一遍数据集，都进行以下测试操作\n",
    "    else:\n",
    "        test_loss = 0\n",
    "        accuracy = 0\n",
    "        # 测试的时候不需要开自动求导和反向传播\n",
    "        with torch.no_grad():\n",
    "            # 关闭Dropout\n",
    "            model.eval()\n",
    "            \n",
    "            # 对测试集中的所有图片都过一遍\n",
    "            for images, labels in testloader:\n",
    "                # 对传入的测试集图片进行正向推断、计算损失，accuracy为测试集一万张图片中模型预测正确率\n",
    "                log_ps = model(images)\n",
    "                test_loss += criterion(log_ps, labels)\n",
    "                ps = torch.exp(log_ps)\n",
    "                top_p, top_class = ps.topk(1, dim=1)\n",
    "                equals = top_class == labels.view(*top_class.shape)\n",
    "                \n",
    "                # 等号右边为每一批64张测试图片中预测正确的占比\n",
    "                accuracy += torch.mean(equals.type(torch.FloatTensor))\n",
    "        # 恢复Dropout\n",
    "        model.train()\n",
    "        # 将训练误差和测试误差存在两个列表里，后面绘制误差变化折线图用\n",
    "        train_losses.append(running_loss/len(trainloader))\n",
    "        test_losses.append(test_loss/len(testloader))\n",
    "\n",
    "        print(\"训练集学习次数: {}/{}.. \".format(e+1, epochs),\n",
    "              \"训练误差: {:.3f}.. \".format(running_loss/len(trainloader)),\n",
    "              \"测试误差: {:.3f}.. \".format(test_loss/len(testloader)),\n",
    "              \"模型分类准确率: {:.3f}\".format(accuracy/len(testloader)))"
   ]
  },
  {
   "cell_type": "markdown",
   "metadata": {},
   "source": [
    "# 3 验证模型效果"
   ]
  },
  {
   "cell_type": "markdown",
   "metadata": {},
   "source": [
    "## 绘制训练误差和测试误差随学习次数增加的变化"
   ]
  },
  {
   "cell_type": "code",
   "execution_count": 19,
   "metadata": {},
   "outputs": [],
   "source": [
    "import matplotlib.pyplot as plt\n",
    "%matplotlib inline"
   ]
  },
  {
   "cell_type": "code",
   "execution_count": 20,
   "metadata": {
    "scrolled": false
   },
   "outputs": [
    {
     "data": {
      "text/plain": [
       "<matplotlib.legend.Legend at 0x1222d1850>"
      ]
     },
     "execution_count": 20,
     "metadata": {},
     "output_type": "execute_result"
    },
    {
     "data": {
      "image/png": "[encoded data removed]",
      "text/plain": [
       "<Figure size 432x288 with 1 Axes>"
      ]
     },
     "metadata": {
      "needs_background": "light"
     },
     "output_type": "display_data"
    }
   ],
   "source": [
    "plt.plot(train_losses, label='Training loss')\n",
    "plt.plot(test_losses, label='Validation loss')\n",
    "plt.legend()"
   ]
  },
  {
   "cell_type": "markdown",
   "metadata": {},
   "source": [
    "可以看到，虽然训练误差一直在下降，但测试误差居高不下，我们的神经网络仿佛一个高分低能的同学，平时把所有课后题答案都死记硬背下来，一到考试见到新题的时候就不会做了。\n",
    "\n",
    "虽然高分低能，但大部分时候依旧能做出正确判断，但是有时候预测概率只有百分之三四十的把握，不能做到十有八九的确定。"
   ]
  },
  {
   "cell_type": "code",
   "execution_count": 21,
   "metadata": {
    "scrolled": true
   },
   "outputs": [
    {
     "name": "stdout",
     "output_type": "stream",
     "text": [
      "神经网络猜测图片里是 套衫，概率为51.981621980667114%\n"
     ]
    },
    {
     "data": {
      "image/png": "[encoded data removed]",
      "text/plain": [
       "<Figure size 432x288 with 1 Axes>"
      ]
     },
     "metadata": {
      "needs_background": "light"
     },
     "output_type": "display_data"
    }
   ],
   "source": [
    "dataiter = iter(testloader)\n",
    "images, labels = dataiter.next()\n",
    "img = images[0]\n",
    "img = img.reshape((28,28)).numpy()\n",
    "plt.imshow(img)\n",
    "\n",
    "# 将测试图片转为一维的列向量\n",
    "img = torch.from_numpy(img)\n",
    "img = img.view(1, 784)\n",
    "\n",
    "# 进行正向推断，预测图片所在的类别\n",
    "with torch.no_grad():\n",
    "    output = model.forward(img)\n",
    "ps = torch.exp(output)\n",
    "\n",
    "top_p, top_class = ps.topk(1, dim=1)\n",
    "labellist = ['T恤','裤子','套衫','裙子','外套','凉鞋','汗衫','运动鞋','包包','靴子']\n",
    "prediction = labellist[top_class]\n",
    "probability = float(top_p)\n",
    "print(f'神经网络猜测图片里是 {prediction}，概率为{probability*100}%')"
   ]
  },
  {
   "cell_type": "markdown",
   "metadata": {},
   "source": [
    "# 4 采用Dropout方法防止过拟合"
   ]
  },
  {
   "cell_type": "markdown",
   "metadata": {},
   "source": [
    "我們可以採用Dropout的方法，也就是在每次正向推斷訓練神經元的時候隨機“掐死”一部分神經元，阻斷其輸入輸出，這樣可以起到正則化的作用。\n",
    "\n",
    "可以理解為，皇上雨露均霑，今天受寵，明天可能就被打入冷宮，這樣就防止了楊貴妃那樣的“三千寵愛在一身”，從而防止了某些神經元一家獨大，成為話題領袖，隻手遮天。\n",
    "\n",
    "所有神經元處於平等地位，防止過擬合。"
   ]
  },
  {
   "cell_type": "code",
   "execution_count": 22,
   "metadata": {},
   "outputs": [],
   "source": [
    "class Classifier(nn.Module):\n",
    "    def __init__(self):\n",
    "        super().__init__()\n",
    "        self.fc1 = nn.Linear(784, 256)\n",
    "        self.fc2 = nn.Linear(256, 128)\n",
    "        self.fc3 = nn.Linear(128, 64)\n",
    "        self.fc4 = nn.Linear(64, 10)\n",
    "        \n",
    "        # 构造Dropout方法，在每次训练过程中都随机“掐死”百分之二十的神经元，防止过拟合。\n",
    "        self.dropout = nn.Dropout(p=0.2)\n",
    "        \n",
    "    def forward(self, x):\n",
    "        # 确保输入的tensor是展开的单列数据，把每张图片的通道、长度、宽度三个维度都压缩为一列\n",
    "        x = x.view(x.shape[0], -1)\n",
    "        \n",
    "        # 在训练过程中对隐含层神经元的正向推断使用Dropout方法\n",
    "        x = self.dropout(F.relu(self.fc1(x)))\n",
    "        x = self.dropout(F.relu(self.fc2(x)))\n",
    "        x = self.dropout(F.relu(self.fc3(x)))\n",
    "        \n",
    "        # 在输出单元不需要使用Dropout方法\n",
    "        x = F.log_softmax(self.fc4(x), dim=1)\n",
    "        \n",
    "        return x"
   ]
  },
  {
   "cell_type": "code",
   "execution_count": 23,
   "metadata": {},
   "outputs": [
    {
     "name": "stdout",
     "output_type": "stream",
     "text": [
      "开始训练\n",
      "训练集学习次数: 1/15..  训练误差: 0.608..  测试误差: 0.489..  模型分类准确率: 0.822\n",
      "训练集学习次数: 2/15..  训练误差: 0.484..  测试误差: 0.446..  模型分类准确率: 0.839\n",
      "训练集学习次数: 3/15..  训练误差: 0.454..  测试误差: 0.406..  模型分类准确率: 0.849\n",
      "训练集学习次数: 4/15..  训练误差: 0.434..  测试误差: 0.404..  模型分类准确率: 0.854\n",
      "训练集学习次数: 5/15..  训练误差: 0.419..  测试误差: 0.392..  模型分类准确率: 0.857\n",
      "训练集学习次数: 6/15..  训练误差: 0.409..  测试误差: 0.425..  模型分类准确率: 0.852\n",
      "训练集学习次数: 7/15..  训练误差: 0.403..  测试误差: 0.393..  模型分类准确率: 0.859\n",
      "训练集学习次数: 8/15..  训练误差: 0.397..  测试误差: 0.425..  模型分类准确率: 0.853\n",
      "训练集学习次数: 9/15..  训练误差: 0.399..  测试误差: 0.395..  模型分类准确率: 0.866\n",
      "训练集学习次数: 10/15..  训练误差: 0.394..  测试误差: 0.394..  模型分类准确率: 0.865\n",
      "训练集学习次数: 11/15..  训练误差: 0.384..  测试误差: 0.395..  模型分类准确率: 0.866\n",
      "训练集学习次数: 12/15..  训练误差: 0.384..  测试误差: 0.396..  模型分类准确率: 0.865\n",
      "训练集学习次数: 13/15..  训练误差: 0.376..  测试误差: 0.390..  模型分类准确率: 0.863\n",
      "训练集学习次数: 14/15..  训练误差: 0.372..  测试误差: 0.378..  模型分类准确率: 0.870\n",
      "训练集学习次数: 15/15..  训练误差: 0.371..  测试误差: 0.369..  模型分类准确率: 0.873\n"
     ]
    }
   ],
   "source": [
    "# 对上面定义的Classifier类进行实例化\n",
    "model = Classifier()\n",
    "\n",
    "# 定义损失函数为负对数损失函数\n",
    "criterion = nn.NLLLoss()\n",
    "\n",
    "# 优化方法为Adam梯度下降方法，学习率为0.003\n",
    "optimizer = optim.Adam(model.parameters(), lr=0.003)\n",
    "\n",
    "# 对训练集的全部数据学习15遍，这个数字越大，训练时间越长\n",
    "epochs = 15\n",
    "\n",
    "# 将每次训练的训练误差和测试误差存储在这两个列表里，后面绘制误差变化折线图用\n",
    "train_losses, test_losses = [], []\n",
    "\n",
    "print('开始训练')\n",
    "for e in range(epochs):\n",
    "    running_loss = 0\n",
    "    \n",
    "    # 对训练集中的所有图片都过一遍\n",
    "    for images, labels in trainloader:\n",
    "        # 将优化器中的求导结果都设为0，否则会在每次反向传播之后叠加之前的\n",
    "        optimizer.zero_grad()\n",
    "        \n",
    "        # 对64张图片进行推断，计算损失函数，反向传播优化权重，将损失求和\n",
    "        log_ps = model(images)\n",
    "        loss = criterion(log_ps, labels)\n",
    "        loss.backward()\n",
    "        optimizer.step()\n",
    "        running_loss += loss.item()\n",
    "    \n",
    "    # 每次学完一遍数据集，都进行以下测试操作\n",
    "    else:\n",
    "        test_loss = 0\n",
    "        accuracy = 0\n",
    "        # 测试的时候不需要开自动求导和反向传播\n",
    "        with torch.no_grad():\n",
    "            # 关闭Dropout\n",
    "            model.eval()\n",
    "            \n",
    "            # 对测试集中的所有图片都过一遍\n",
    "            for images, labels in testloader:\n",
    "                # 对传入的测试集图片进行正向推断、计算损失，accuracy为测试集一万张图片中模型预测正确率\n",
    "                log_ps = model(images)\n",
    "                test_loss += criterion(log_ps, labels)\n",
    "                ps = torch.exp(log_ps)\n",
    "                top_p, top_class = ps.topk(1, dim=1)\n",
    "                equals = top_class == labels.view(*top_class.shape)\n",
    "                \n",
    "                # 等号右边为每一批64张测试图片中预测正确的占比\n",
    "                accuracy += torch.mean(equals.type(torch.FloatTensor))\n",
    "        # 恢复Dropout\n",
    "        model.train()\n",
    "        # 将训练误差和测试误差存在两个列表里，后面绘制误差变化折线图用\n",
    "        train_losses.append(running_loss/len(trainloader))\n",
    "        test_losses.append(test_loss/len(testloader))\n",
    "\n",
    "        print(\"训练集学习次数: {}/{}.. \".format(e+1, epochs),\n",
    "              \"训练误差: {:.3f}.. \".format(running_loss/len(trainloader)),\n",
    "              \"测试误差: {:.3f}.. \".format(test_loss/len(testloader)),\n",
    "              \"模型分类准确率: {:.3f}\".format(accuracy/len(testloader)))"
   ]
  },
  {
   "cell_type": "code",
   "execution_count": 24,
   "metadata": {},
   "outputs": [],
   "source": [
    "import matplotlib.pyplot as plt\n",
    "%matplotlib inline"
   ]
  },
  {
   "cell_type": "code",
   "execution_count": 25,
   "metadata": {},
   "outputs": [
    {
     "data": {
      "text/plain": [
       "<matplotlib.legend.Legend at 0x122421b90>"
      ]
     },
     "execution_count": 25,
     "metadata": {},
     "output_type": "execute_result"
    },
    {
     "data": {
      "image/png": "[encoded data removed]",
      "text/plain": [
       "<Figure size 432x288 with 1 Axes>"
      ]
     },
     "metadata": {
      "needs_background": "light"
     },
     "output_type": "display_data"
    }
   ],
   "source": [
    "plt.plot(train_losses, label='Training loss')\n",
    "plt.plot(test_losses, label='Validation loss')\n",
    "plt.legend()"
   ]
  },
  {
   "cell_type": "markdown",
   "metadata": {},
   "source": [
    "可以看到，训练误差和测试误差都随学习次数增加逐渐降低，没有出现“高分低能”和“死记硬背”的过拟合现象，这其实是Dropout正则化的功劳。"
   ]
  },
  {
   "cell_type": "code",
   "execution_count": 26,
   "metadata": {},
   "outputs": [
    {
     "name": "stdout",
     "output_type": "stream",
     "text": [
      "神经网络猜测图片里是 套衫，概率为64.42440748214722%\n"
     ]
    },
    {
     "data": {
      "image/png": "[encoded data removed]",
      "text/plain": [
       "<Figure size 432x288 with 1 Axes>"
      ]
     },
     "metadata": {
      "needs_background": "light"
     },
     "output_type": "display_data"
    }
   ],
   "source": [
    "model.eval()\n",
    "dataiter = iter(testloader)\n",
    "images, labels = dataiter.next()\n",
    "img = images[0]\n",
    "img = img.reshape((28,28)).numpy()\n",
    "plt.imshow(img)\n",
    "\n",
    "# 将测试图片转为一维的列向量\n",
    "img = torch.from_numpy(img)\n",
    "img = img.view(1, 784)\n",
    "\n",
    "# 进行正向推断，预测图片所在的类别\n",
    "with torch.no_grad():\n",
    "    output = model.forward(img)\n",
    "ps = torch.exp(output)\n",
    "\n",
    "top_p, top_class = ps.topk(1, dim=1)\n",
    "labellist = ['T恤','裤子','套衫','裙子','外套','凉鞋','汗衫','运动鞋','包包','靴子']\n",
    "prediction = labellist[top_class]\n",
    "probability = float(top_p)\n",
    "print(f'神经网络猜测图片里是 {prediction}，概率为{probability*100}%')"
   ]
  },
  {
   "cell_type": "code",
   "execution_count": null,
   "metadata": {},
   "outputs": [],
   "source": []
  }
 ],
 "metadata": {
  "kernelspec": {
   "display_name": "Python 3",
   "language": "python",
   "name": "python3"
  },
  "language_info": {
   "codemirror_mode": {
    "name": "ipython",
    "version": 3
   },
   "file_extension": ".py",
   "mimetype": "text/x-python",
   "name": "python",
   "nbconvert_exporter": "python",
   "pygments_lexer": "ipython3",
   "version": "3.7.4"
  }
 },
 "nbformat": 4,
 "nbformat_minor": 2
}
