{
 "cells": [
  {
   "cell_type": "code",
   "execution_count": 1,
   "metadata": {},
   "outputs": [],
   "source": [
    "import os\n",
    "import pandas as pd"
   ]
  },
  {
   "cell_type": "code",
   "execution_count": 2,
   "metadata": {},
   "outputs": [],
   "source": [
    "# 資料視覺化\n",
    "import matplotlib.pyplot as plt # 基本的繪圖套件\n",
    "%matplotlib inline\n",
    "plt.style.use('ggplot') # 製圖時選用ggplot的視覺樣式"
   ]
  },
  {
   "cell_type": "code",
   "execution_count": 3,
   "metadata": {},
   "outputs": [],
   "source": [
    "from matplotlib.font_manager import FontProperties\n",
    "plt.rcParams['font.sans-serif'] = ['Microsoft JhengHei'] \n",
    "plt.rcParams['axes.unicode_minus'] = False\n",
    "plt.rcParams['font.size'] = 20"
   ]
  },
  {
   "cell_type": "code",
   "execution_count": 4,
   "metadata": {},
   "outputs": [
    {
     "data": {
      "image/png": "[encoded data removed]",
      "text/plain": [
       "<Figure size 432x288 with 1 Axes>"
      ]
     },
     "metadata": {},
     "output_type": "display_data"
    }
   ],
   "source": [
    "plt.rcParams['font.sans-serif'] = ['Microsoft JhengHei'] \n",
    "plt.rcParams['axes.unicode_minus'] = False\n",
    "plt.plot((1,2,3),(4,3,-1))\n",
    "plt.title(\"聲量圖\")\n",
    "plt.ylabel(\"文章數量\")\n",
    "plt.xlabel(\"品牌名稱\") \n",
    "plt.show()"
   ]
  },
  {
   "cell_type": "code",
   "execution_count": 5,
   "metadata": {},
   "outputs": [
    {
     "name": "stdout",
     "output_type": "stream",
     "text": [
      "real_estate1061\n",
      "real_estate1032\n",
      "real_estate1051\n",
      "real_estate1033\n",
      "real_estate1034\n",
      "real_estate1042\n",
      "real_estate1074\n",
      "real_estate1073\n",
      "real_estate1021\n",
      "real_estate1072\n",
      "real_estate1081\n",
      "real_estate1043\n",
      "real_estate1044\n",
      "real_estate1031\n",
      "real_estate1062\n",
      "real_estate1091\n",
      "real_estate1053\n",
      "real_estate1054\n",
      "real_estate1052\n",
      "real_estate1064\n",
      "real_estate1063\n",
      "real_estate1041\n",
      "real_estate1084\n",
      "real_estate1083\n",
      "real_estate1023\n",
      "real_estate1024\n",
      "real_estate1082\n",
      "real_estate1071\n",
      "real_estate1014\n",
      "real_estate1022\n"
     ]
    }
   ],
   "source": [
    "# 歷年資料夾\n",
    "dirs = [d for d in os.listdir() if d[:4] == 'real']\n",
    "\n",
    "dfs = []\n",
    "\n",
    "for d in dirs:\n",
    "    print(d)\n",
    "    df = pd.read_csv(os.path.join(d,'a_lvr_land_a.csv'), index_col=False)\n",
    "    df['Q'] = d[-1]\n",
    "    dfs.append(df.iloc[1:])\n",
    "    \n",
    "df = pd.concat(dfs, sort=True)"
   ]
  },
  {
   "cell_type": "code",
   "execution_count": 9,
   "metadata": {},
   "outputs": [
    {
     "data": {
      "text/plain": [
       "非都市土地使用編定    177579\n",
       "非都市土地使用分區    177553\n",
       "車位類別         116971\n",
       "備註           106679\n",
       "建築完成年月        36952\n",
       "主要用途          24499\n",
       "總樓層數          19967\n",
       "移轉層次          19804\n",
       "主要建材          19604\n",
       "單價元平方公尺        9672\n",
       "都市土地使用分區       1640\n",
       "dtype: int64"
      ]
     },
     "execution_count": 9,
     "metadata": {},
     "output_type": "execute_result"
    }
   ],
   "source": [
    "# 觀察哪些資料有缺失值\n",
    "all_data_isnull = df.isnull().sum() # 觀察哪些資料有缺失值\n",
    "all_data_isnull[all_data_isnull>0].sort_values(ascending=False)"
   ]
  },
  {
   "cell_type": "code",
   "execution_count": 10,
   "metadata": {},
   "outputs": [
    {
     "data": {
      "text/plain": [
       "Index(['Q', '主要建材', '主要用途', '交易年月日', '交易標的', '交易筆棟數', '備註', '單價元平方公尺',\n",
       "       '土地區段位置建物區段門牌', '土地移轉總面積平方公尺', '建物型態', '建物現況格局-廳', '建物現況格局-房',\n",
       "       '建物現況格局-衛', '建物現況格局-隔間', '建物移轉總面積平方公尺', '建築完成年月', '有無管理組織', '移轉層次',\n",
       "       '編號', '總價元', '總樓層數', '車位移轉總面積平方公尺', '車位總價元', '車位類別', '都市土地使用分區', '鄉鎮市區',\n",
       "       '非都市土地使用分區', '非都市土地使用編定'],\n",
       "      dtype='object')"
      ]
     },
     "execution_count": 10,
     "metadata": {},
     "output_type": "execute_result"
    }
   ],
   "source": [
    "df.columns"
   ]
  },
  {
   "cell_type": "markdown",
   "metadata": {},
   "source": [
    "## 一、資料前處理"
   ]
  },
  {
   "cell_type": "code",
   "execution_count": null,
   "metadata": {},
   "outputs": [],
   "source": [
    "df['單價元平方公尺'] = df['單價元平方公尺'].astype(float).round()\n",
    "df['建物移轉總面積平方公尺'] = df['建物移轉總面積平方公尺'].astype(float).round()"
   ]
  },
  {
   "cell_type": "markdown",
   "metadata": {},
   "source": [
    "df['單價元坪'] = df['單價元平方公尺'] * 0.3025"
   ]
  },
  {
   "cell_type": "markdown",
   "metadata": {},
   "source": [
    "### 3. 欄位整理"
   ]
  },
  {
   "cell_type": "code",
   "execution_count": null,
   "metadata": {},
   "outputs": [],
   "source": [
    "# 建物型態\n",
    "df['建物型態(N)'] = df['建物型態'].str.split('(').str[0]\n",
    "\n",
    "# 交易標的\n",
    "df['交易標的(N)'] = df['交易標的'].str.split('(').str[0]\n",
    "\n",
    "# 選取有價格的房子\n",
    "df = df[df['單價元平方公尺'].notnull()]\n",
    "\n",
    "# 選取有層數的房子\n",
    "df = df[df['總樓層數'].notnull()]\n",
    "\n",
    "# 選取有移轉層次的房子\n",
    "df = df[df['移轉層次'].notnull()]\n",
    "\n",
    "# 刪除有備註之交易（多為親友交易、價格不正常之交易）\n",
    "df = df[df['備註'].isnull()]\n",
    "\n",
    "# 刪除欄位\n",
    "df = df.drop(['交易年月日','編號','非都市土地使用分區','非都市土地使用編定','備註','建物型態','交易標的'],axis=1)"
   ]
  },
  {
   "cell_type": "markdown",
   "metadata": {},
   "source": [
    "### 4. 資料欄位轉換"
   ]
  },
  {
   "cell_type": "code",
   "execution_count": null,
   "metadata": {},
   "outputs": [],
   "source": [
    "df['建物現況格局-廳'] = df['建物現況格局-廳'].astype(int)\n",
    "df['建物現況格局-房'] = df['建物現況格局-房'].astype(int)\n",
    "df['建物現況格局-衛'] = df['建物現況格局-衛'].astype(int)\n",
    "df['建築完成年月'] = df['建物現況格局-衛'].astype(int)\n",
    "df['建物移轉總面積平方公尺'] = df['建物移轉總面積平方公尺'].astype(float)"
   ]
  },
  {
   "cell_type": "markdown",
   "metadata": {},
   "source": [
    "## 二、特徵抽取"
   ]
  },
  {
   "cell_type": "code",
   "execution_count": null,
   "metadata": {},
   "outputs": [],
   "source": [
    "df.shape"
   ]
  },
  {
   "cell_type": "code",
   "execution_count": null,
   "metadata": {},
   "outputs": [],
   "source": [
    "df.columns"
   ]
  },
  {
   "cell_type": "code",
   "execution_count": null,
   "metadata": {},
   "outputs": [],
   "source": [
    "all_data_isnull = df.isnull().sum() # 觀察哪些資料有缺失值\n",
    "select_isnull = all_data_isnull[all_data_isnull>0].sort_values(ascending=False)\n",
    "print(select_isnull)"
   ]
  },
  {
   "cell_type": "code",
   "execution_count": null,
   "metadata": {},
   "outputs": [],
   "source": [
    "# 選取有主要用途的房子\n",
    "df = df[df['主要用途'].notnull()]\n",
    "\n",
    "# 選取有主要建材的房子\n",
    "df = df[df['主要建材'].notnull()]\n",
    "\n",
    "# 選取有都市土地使用分區的房子\n",
    "df = df[df['都市土地使用分區'].notnull()]"
   ]
  },
  {
   "cell_type": "code",
   "execution_count": null,
   "metadata": {},
   "outputs": [],
   "source": [
    "col_1 = ['車位類別']\n",
    "\n",
    "for col in col_1:\n",
    "    df[col].fillna(\"未標注\", inplace=True) "
   ]
  },
  {
   "cell_type": "code",
   "execution_count": null,
   "metadata": {},
   "outputs": [],
   "source": [
    "df = df.drop('Q',axis=1)"
   ]
  },
  {
   "cell_type": "code",
   "execution_count": null,
   "metadata": {},
   "outputs": [],
   "source": [
    "df.shape"
   ]
  },
  {
   "cell_type": "code",
   "execution_count": null,
   "metadata": {},
   "outputs": [],
   "source": []
  },
  {
   "cell_type": "code",
   "execution_count": null,
   "metadata": {},
   "outputs": [],
   "source": [
    "df.to_csv('RealEstate_Location_109_1.csv')"
   ]
  },
  {
   "cell_type": "code",
   "execution_count": null,
   "metadata": {},
   "outputs": [],
   "source": [
    "aaaaa"
   ]
  },
  {
   "cell_type": "code",
   "execution_count": null,
   "metadata": {},
   "outputs": [],
   "source": []
  },
  {
   "cell_type": "code",
   "execution_count": null,
   "metadata": {},
   "outputs": [],
   "source": [
    "select_isnull.keys()"
   ]
  },
  {
   "cell_type": "code",
   "execution_count": null,
   "metadata": {},
   "outputs": [],
   "source": [
    "# 檢視各欄位類別不同種類\n",
    "\n",
    "b = df.select_dtypes(include=[\"object\"]).apply(pd.Series.nunique, axis = 0)\n",
    "b[select_isnull.keys()]"
   ]
  },
  {
   "cell_type": "code",
   "execution_count": null,
   "metadata": {},
   "outputs": [],
   "source": [
    "df['都市土地使用分區'].unique()"
   ]
  },
  {
   "cell_type": "code",
   "execution_count": null,
   "metadata": {},
   "outputs": [],
   "source": [
    "df['車位類別'].unique()"
   ]
  },
  {
   "cell_type": "code",
   "execution_count": null,
   "metadata": {},
   "outputs": [],
   "source": [
    "df['主要用途'].unique()"
   ]
  },
  {
   "cell_type": "code",
   "execution_count": null,
   "metadata": {},
   "outputs": [],
   "source": [
    "df['主要建材'].unique()"
   ]
  },
  {
   "cell_type": "code",
   "execution_count": null,
   "metadata": {},
   "outputs": [],
   "source": [
    "import seaborn as sns # 基於matplotlib提供更多高階視覺化的套件\n",
    "plt.rcParams['font.size'] = 9"
   ]
  },
  {
   "cell_type": "code",
   "execution_count": null,
   "metadata": {
    "scrolled": true
   },
   "outputs": [],
   "source": [
    "df[['主要建材','Q']].groupby('主要建材').count().sort_values(by ='Q', ascending = False)"
   ]
  },
  {
   "cell_type": "code",
   "execution_count": null,
   "metadata": {},
   "outputs": [],
   "source": [
    "df[['主要用途','Q']].groupby('主要用途').count().sort_values(by ='Q', ascending = False)"
   ]
  },
  {
   "cell_type": "code",
   "execution_count": null,
   "metadata": {},
   "outputs": [],
   "source": [
    "df[['車位類別','Q']].groupby('車位類別').count().sort_values(by ='Q', ascending = False)"
   ]
  },
  {
   "cell_type": "code",
   "execution_count": null,
   "metadata": {},
   "outputs": [],
   "source": [
    "plt.figure(figsize=(15, 10))\n",
    "sns.countplot(df['主要建材'])\n",
    "plt.show()"
   ]
  },
  {
   "cell_type": "markdown",
   "metadata": {},
   "source": [
    "### 缺失欄位補值"
   ]
  },
  {
   "cell_type": "code",
   "execution_count": null,
   "metadata": {},
   "outputs": [],
   "source": [
    "col_2 = ['主要用途']\n",
    "\n",
    "for col in col_2:\n",
    "    df[col].fillna(\"住家用\", inplace=True)"
   ]
  },
  {
   "cell_type": "code",
   "execution_count": null,
   "metadata": {},
   "outputs": [],
   "source": [
    "col_3 = ['都市土地使用分區']\n",
    "\n",
    "for col in col_3:\n",
    "    df[col].fillna(\"其他\", inplace=True) "
   ]
  },
  {
   "cell_type": "code",
   "execution_count": null,
   "metadata": {},
   "outputs": [],
   "source": [
    "col_4 = ['主要建材']\n",
    "\n",
    "for col in col_4:\n",
    "    df[col].fillna(\"鋼筋混凝土造\", inplace=True) "
   ]
  },
  {
   "cell_type": "code",
   "execution_count": null,
   "metadata": {},
   "outputs": [],
   "source": [
    "all_data_isnull = df.isnull().sum() # 觀察哪些資料有缺失值\n",
    "select_isnull = all_data_isnull[all_data_isnull>0].sort_values(ascending=False)\n",
    "print(select_isnull)"
   ]
  },
  {
   "cell_type": "code",
   "execution_count": null,
   "metadata": {},
   "outputs": [],
   "source": [
    "df.shape"
   ]
  },
  {
   "cell_type": "code",
   "execution_count": null,
   "metadata": {},
   "outputs": [],
   "source": [
    "df.head()"
   ]
  },
  {
   "cell_type": "code",
   "execution_count": null,
   "metadata": {},
   "outputs": [],
   "source": [
    "df = df.drop('Q',axis=1)"
   ]
  },
  {
   "cell_type": "code",
   "execution_count": null,
   "metadata": {},
   "outputs": [],
   "source": [
    "df.columns"
   ]
  },
  {
   "cell_type": "code",
   "execution_count": null,
   "metadata": {},
   "outputs": [],
   "source": []
  },
  {
   "cell_type": "code",
   "execution_count": null,
   "metadata": {},
   "outputs": [],
   "source": [
    "df.to_csv('Clean_real_estate.csv')"
   ]
  },
  {
   "cell_type": "markdown",
   "metadata": {},
   "source": [
    "### 三、特徵轉換"
   ]
  },
  {
   "cell_type": "code",
   "execution_count": null,
   "metadata": {},
   "outputs": [],
   "source": [
    "df1['建物現況格局-隔間'].unique()"
   ]
  },
  {
   "cell_type": "code",
   "execution_count": null,
   "metadata": {},
   "outputs": [],
   "source": [
    "bay_mapping = {'有':0,'無':'1'}\n",
    "\n",
    "for dataset in data:\n",
    "    dataset['Title'] = dataset['Title'].map(title_mapping)"
   ]
  },
  {
   "cell_type": "code",
   "execution_count": null,
   "metadata": {},
   "outputs": [],
   "source": [
    "df1.isnull().sum()"
   ]
  },
  {
   "cell_type": "code",
   "execution_count": null,
   "metadata": {},
   "outputs": [],
   "source": [
    "df1.select_dtypes(include=[\"object\"]).apply(pd.Series.nunique, axis = 0)"
   ]
  },
  {
   "cell_type": "code",
   "execution_count": null,
   "metadata": {},
   "outputs": [],
   "source": [
    "prices = {}\n",
    "for district in set(df['鄉鎮市區']):\n",
    "    cond = (\n",
    "        (df['主要用途'] == '住家用')\n",
    "        & (df['鄉鎮市區'] == district)\n",
    "        & (df['單價元坪'] < df[\"單價元坪\"].quantile(0.95))\n",
    "        & (df['單價元坪'] > df[\"單價元坪\"].quantile(0.05))\n",
    "        )\n",
    "    \n",
    "    groups = df[cond]['year']\n",
    "    \n",
    "    prices[district] = df[cond]['單價元坪'].astype(float).groupby(groups).mean().loc[2012:]\n",
    "    \n",
    "price_history = pd.DataFrame(prices)\n",
    "price_history.plot(figsize=(20,10))"
   ]
  },
  {
   "cell_type": "code",
   "execution_count": null,
   "metadata": {},
   "outputs": [],
   "source": [
    "price_history.mean(axis=1).plot(figsize=(20,10))"
   ]
  },
  {
   "cell_type": "code",
   "execution_count": null,
   "metadata": {},
   "outputs": [],
   "source": [
    "building_type_prices = {}\n",
    "for building_type in set(df['建物型態2']):\n",
    "    cond = (\n",
    "        (df['主要用途'] == '住家用')\n",
    "        & (df['單價元坪'] < df[\"單價元坪\"].quantile(0.8))\n",
    "        & (df['單價元坪'] > df[\"單價元坪\"].quantile(0.2))\n",
    "        & (df['建物型態2'] == building_type)\n",
    "        )\n",
    "    building_type_prices[building_type] = df[cond]['單價元坪'].groupby(df[cond]['year']).mean().loc[2012:]\n",
    "pd.DataFrame(building_type_prices)[['公寓', '住宅大樓', '套房', '華廈']].plot(figsize=(20,10))"
   ]
  },
  {
   "cell_type": "code",
   "execution_count": null,
   "metadata": {},
   "outputs": [],
   "source": [
    "for district in set(df['鄉鎮市區']):\n",
    "    dfdistrict = df[df['鄉鎮市區'] == district]\n",
    "    dfdistrict['單價元坪'][dfdistrict['單價元坪'] < 2000000].hist(bins=120, alpha=0.7)\n",
    "\n",
    "plt.xlim(0, 2000000)\n",
    "plt.legend(set(df['鄉鎮市區']))"
   ]
  },
  {
   "cell_type": "code",
   "execution_count": null,
   "metadata": {},
   "outputs": [],
   "source": [
    "dfdistrict = df[(df['鄉鎮市區'] == '北投區') & (df['year'] >= 2018) & (\n",
    "    (df['建物型態2'] == '住宅大樓') | (df['建物型態2'] == '公寓') | (df['建物型態2'] == '套房')\n",
    ")]\n",
    "dfdistrict = dfdistrict[dfdistrict['單價元坪'] < 2000000]\n",
    "\n",
    "dfdistrict['單價元坪'].groupby(dfdistrict['建物型態2']).hist(bins=50, alpha=0.7)\n",
    "plt.legend(set(dfdistrict['建物型態2']))"
   ]
  },
  {
   "cell_type": "code",
   "execution_count": null,
   "metadata": {},
   "outputs": [],
   "source": [
    "df.to_csv('rs.csv')"
   ]
  },
  {
   "cell_type": "code",
   "execution_count": null,
   "metadata": {},
   "outputs": [],
   "source": []
  }
 ],
 "metadata": {
  "kernelspec": {
   "display_name": "Python 3",
   "language": "python",
   "name": "python3"
  },
  "language_info": {
   "codemirror_mode": {
    "name": "ipython",
    "version": 3
   },
   "file_extension": ".py",
   "mimetype": "text/x-python",
   "name": "python",
   "nbconvert_exporter": "python",
   "pygments_lexer": "ipython3",
   "version": "3.7.6"
  }
 },
 "nbformat": 4,
 "nbformat_minor": 2
}
