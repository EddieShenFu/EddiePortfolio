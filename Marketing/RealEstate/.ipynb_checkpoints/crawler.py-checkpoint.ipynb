{
 "cells": [
  {
   "cell_type": "code",
   "execution_count": 1,
   "metadata": {},
   "outputs": [],
   "source": [
    "import requests\n",
    "import os\n",
    "import zipfile\n",
    "import time\n",
    "\n",
    "def real_estate_crawler(year, season):\n",
    "  if year > 1000:\n",
    "    year -= 1911\n",
    "\n",
    "  # download real estate zip content\n",
    "  res = requests.get(\"https://plvr.land.moi.gov.tw//DownloadSeason?season=\"+str(year)+\"S\"+str(season)+\"&type=zip&fileName=lvr_landcsv.zip\")\n",
    "\n",
    "  # save content to file\n",
    "  fname = str(year)+str(season)+'.zip'\n",
    "  open(fname, 'wb').write(res.content)\n",
    "\n",
    "  # make additional folder for files to extract\n",
    "  folder = 'real_estate' + str(year) + str(season)\n",
    "  if not os.path.isdir(folder):\n",
    "    os.mkdir(folder)\n",
    "\n",
    "  # extract files to the folder\n",
    "  with zipfile.ZipFile(fname, 'r') as zip_ref:\n",
    "      zip_ref.extractall(folder)\n",
    "\n",
    "  time.sleep(10)"
   ]
  },
  {
   "cell_type": "code",
   "execution_count": 2,
   "metadata": {},
   "outputs": [
    {
     "name": "stdout",
     "output_type": "stream",
     "text": [
      "102 1\n",
      "102 2\n",
      "102 3\n",
      "102 4\n",
      "103 1\n",
      "103 2\n",
      "103 3\n",
      "103 4\n",
      "104 1\n",
      "104 2\n",
      "104 3\n",
      "104 4\n",
      "105 1\n",
      "105 2\n",
      "105 3\n",
      "105 4\n",
      "106 1\n",
      "106 2\n",
      "106 3\n",
      "106 4\n",
      "107 1\n",
      "107 2\n",
      "107 3\n",
      "107 4\n"
     ]
    }
   ],
   "source": [
    "real_estate_crawler(101, 3)\n",
    "real_estate_crawler(101, 4)\n",
    "\n",
    "for year in range(102, 109):\n",
    "  for season in range(1,5):\n",
    "    print(year, season)\n",
    "    real_estate_crawler(year, season)\n",
    "\n",
    "real_estate_crawler(108, 1)\n",
    "real_estate_crawler(108, 2)"
   ]
  },
  {
   "cell_type": "code",
   "execution_count": 2,
   "metadata": {},
   "outputs": [],
   "source": [
    "real_estate_crawler(108, 3)"
   ]
  },
  {
   "cell_type": "code",
   "execution_count": 5,
   "metadata": {},
   "outputs": [
    {
     "name": "stdout",
     "output_type": "stream",
     "text": [
      "real_estate1061\n",
      "real_estate1032\n",
      "real_estate1051\n",
      "real_estate1033\n",
      "real_estate1034\n",
      "real_estate1042\n",
      "real_estate1074\n",
      "real_estate1073\n",
      "real_estate1021\n",
      "real_estate1072\n",
      "real_estate1081\n",
      "real_estate1043\n",
      "real_estate1044\n",
      "real_estate1031\n",
      "real_estate1062\n",
      "real_estate1053\n",
      "real_estate1054\n",
      "real_estate1052\n",
      "real_estate1064\n",
      "real_estate1063\n",
      "real_estate1041\n",
      "real_estate1023\n",
      "real_estate1024\n",
      "real_estate1082\n",
      "real_estate1071\n",
      "real_estate1014\n",
      "real_estate1022\n"
     ]
    }
   ],
   "source": [
    "import pandas as pd\n",
    "\n",
    "# 歷年資料夾\n",
    "dirs = [d for d in os.listdir() if d[:4] == 'real']\n",
    "\n",
    "dfs = []\n",
    "\n",
    "for d in dirs:\n",
    "    print(d)\n",
    "    df = pd.read_csv(os.path.join(d,'a_lvr_land_a.csv'), index_col=False)\n",
    "    df['Q'] = d[-1]\n",
    "    dfs.append(df.iloc[1:])\n",
    "    \n",
    "df = pd.concat(dfs, sort=True)"
   ]
  },
  {
   "cell_type": "code",
   "execution_count": 8,
   "metadata": {},
   "outputs": [
    {
     "name": "stdout",
     "output_type": "stream",
     "text": [
      "   Q      主要建材  主要用途    交易年月日          交易標的      交易筆棟數                 備註  \\\n",
      "1  1  鋼骨鋼筋混凝土造  停車空間  1051024            車位  土地0建物0車位1                NaN   \n",
      "2  1      加強磚造   NaN  1051024     房地(土地+建物)  土地1建物1車位0  親友、員工或其他特殊關係間之交易。   \n",
      "3  1    鋼筋混凝土造   住家用  1051007     房地(土地+建物)  土地3建物1車位0                NaN   \n",
      "4  1    鋼筋混凝土造   住家用  1050924  房地(土地+建物)+車位  土地1建物1車位1                NaN   \n",
      "5  1       NaN   NaN  1051024            土地  土地2建物0車位0                NaN   \n",
      "\n",
      "  單價元平方公尺          土地區段位置建物區段門牌 土地移轉總面積平方公尺  ...       總價元  總樓層數 車位移轉總面積平方公尺  \\\n",
      "1     NaN    臺北市中正區和平西路一段61~90號        0.28  ...   3100000  二十八層         0.0   \n",
      "2    1217  臺北市中正區中華路二段305巷1~30號        0.02  ...     51983    五層         0.0   \n",
      "3  169035  臺北市中正區和平西路一段151~180號        6.72  ...  12250000   十二層         0.0   \n",
      "4  106135   臺北市文山區政大二街260巷1~30號      213.58  ...  47000000    四層       33.74   \n",
      "5  393168       興隆段三小段511~540地號        80.5  ...  31650000   NaN         0.0   \n",
      "\n",
      "     車位總價元  車位類別 都市土地使用分區 鄉鎮市區 非都市土地使用分區 非都市土地使用編定  year  \n",
      "1  3100000  坡道平面        商  中正區       NaN       NaN  2016  \n",
      "2        0   NaN        住  中正區       NaN       NaN  2016  \n",
      "3        0   NaN        住  中正區       NaN       NaN  2016  \n",
      "4  2800000  坡道平面        住  文山區       NaN       NaN  2016  \n",
      "5        0   NaN        住  文山區       NaN       NaN  2016  \n",
      "\n",
      "[5 rows x 30 columns]\n"
     ]
    }
   ],
   "source": [
    "a = pd.DataFrame(df)\n",
    "print(a.head())"
   ]
  },
  {
   "cell_type": "code",
   "execution_count": 11,
   "metadata": {},
   "outputs": [
    {
     "data": {
      "text/plain": [
       "(165208, 30)"
      ]
     },
     "execution_count": 11,
     "metadata": {},
     "output_type": "execute_result"
    }
   ],
   "source": [
    "a.shape"
   ]
  },
  {
   "cell_type": "code",
   "execution_count": 13,
   "metadata": {},
   "outputs": [
    {
     "name": "stdout",
     "output_type": "stream",
     "text": [
      "<class 'pandas.core.frame.DataFrame'>\n",
      "Int64Index: 165208 entries, 1 to 7378\n",
      "Data columns (total 30 columns):\n",
      "Q               165208 non-null object\n",
      "主要建材            146802 non-null object\n",
      "主要用途            142215 non-null object\n",
      "交易年月日           165208 non-null object\n",
      "交易標的            165208 non-null object\n",
      "交易筆棟數           165208 non-null object\n",
      "備註              64286 non-null object\n",
      "單價元平方公尺         156157 non-null object\n",
      "土地區段位置建物區段門牌    165208 non-null object\n",
      "土地移轉總面積平方公尺     165208 non-null object\n",
      "建物型態            165208 non-null object\n",
      "建物現況格局-廳        165208 non-null object\n",
      "建物現況格局-房        165208 non-null object\n",
      "建物現況格局-衛        165208 non-null object\n",
      "建物現況格局-隔間       165208 non-null object\n",
      "建物移轉總面積平方公尺     165208 non-null object\n",
      "建築完成年月          130644 non-null object\n",
      "有無管理組織          165208 non-null object\n",
      "移轉層次            146601 non-null object\n",
      "編號              165208 non-null object\n",
      "總價元             165208 non-null object\n",
      "總樓層數            146459 non-null object\n",
      "車位移轉總面積平方公尺     165208 non-null object\n",
      "車位總價元           165208 non-null object\n",
      "車位類別            56342 non-null object\n",
      "都市土地使用分區        163665 non-null object\n",
      "鄉鎮市區            165208 non-null object\n",
      "非都市土地使用分區       25 non-null object\n",
      "非都市土地使用編定       0 non-null object\n",
      "year            165208 non-null int64\n",
      "dtypes: int64(1), object(29)\n",
      "memory usage: 39.1+ MB\n"
     ]
    }
   ],
   "source": [
    "a.info()"
   ]
  },
  {
   "cell_type": "code",
   "execution_count": null,
   "metadata": {},
   "outputs": [],
   "source": []
  }
 ],
 "metadata": {
  "kernelspec": {
   "display_name": "Python 3",
   "language": "python",
   "name": "python3"
  },
  "language_info": {
   "codemirror_mode": {
    "name": "ipython",
    "version": 3
   },
   "file_extension": ".py",
   "mimetype": "text/x-python",
   "name": "python",
   "nbconvert_exporter": "python",
   "pygments_lexer": "ipython3",
   "version": "3.7.4"
  }
 },
 "nbformat": 4,
 "nbformat_minor": 2
}
