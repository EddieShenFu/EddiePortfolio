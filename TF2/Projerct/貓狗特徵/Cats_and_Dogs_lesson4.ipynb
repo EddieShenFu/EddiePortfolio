{
 "cells": [
  {
   "cell_type": "markdown",
   "metadata": {
    "colab_type": "text",
    "id": "D7Mvoyj-agfz"
   },
   "source": [
    "# 貓狗辨識 - L4評估模型\n",
    "本次的課程將學習如何實作二元分類的模型，目的是利用圖片當中的特徵，來預測是貓或狗，藉由此項專案將學會如何使用python裡的套件pandas和numpy來操作資料、並利用來搭建深度學習的模型，特別是用於圖像辨識的卷積神經網絡。"
   ]
  },
  {
   "cell_type": "markdown",
   "metadata": {
    "colab_type": "text",
    "id": "bSS1QeZ5agf0"
   },
   "source": [
    "### 課程架構\n",
    "在貓狗辨識的專案中，將帶著學員建構一個深度學習的模型，並進行貓狗預測，主要包括下面四個步驟：\n",
    "\n",
    ">1.   如何進行資料前處理(Processing)\n",
    "\n",
    ">2.   如何實作資料增強(Data Augmentation)\n",
    "\n",
    ">3.   如何建構深度學習模型(Model)\n",
    "\n",
    ">4.   如何評估其模型的學習狀況(Inference) "
   ]
  },
  {
   "cell_type": "markdown",
   "metadata": {
    "colab_type": "text",
    "id": "mdtlxwDKagf1"
   },
   "source": [
    "## 連結Drive與Colab\n",
    "在執行本範例前請先確認Jupyter筆記本設置是否正確，首先點選主選單的「修改」─「筆記本設置」─「運行類別」，選擇「Python3」，同時將「硬件加速器」下拉式選單由「None」改成「GPU」，再按「保存」。"
   ]
  },
  {
   "cell_type": "code",
   "execution_count": 1,
   "metadata": {
    "colab": {
     "base_uri": "https://localhost:8080/",
     "height": 224
    },
    "colab_type": "code",
    "executionInfo": {
     "elapsed": 378579,
     "status": "ok",
     "timestamp": 1569130033700,
     "user": {
      "displayName": "沈阿甫",
      "photoUrl": "",
      "userId": "10734070897281135634"
     },
     "user_tz": -480
    },
    "id": "o3hQvOeQagf2",
    "outputId": "4b3968b7-7aa7-491f-c152-3a8ed6884a84"
   },
   "outputs": [
    {
     "name": "stdout",
     "output_type": "stream",
     "text": [
      "E: Package 'python-software-properties' has no installation candidate\n",
      "Selecting previously unselected package google-drive-ocamlfuse.\n",
      "(Reading database ... 131183 files and directories currently installed.)\n",
      "Preparing to unpack .../google-drive-ocamlfuse_0.7.13-0ubuntu1~ubuntu18.04.1_amd64.deb ...\n",
      "Unpacking google-drive-ocamlfuse (0.7.13-0ubuntu1~ubuntu18.04.1) ...\n",
      "Setting up google-drive-ocamlfuse (0.7.13-0ubuntu1~ubuntu18.04.1) ...\n",
      "Processing triggers for man-db (2.8.3-2ubuntu0.1) ...\n",
      "Please, open the following URL in a web browser: https://accounts.google.com/o/oauth2/auth?client_id=32555940559.apps.googleusercontent.com&redirect_uri=urn%3Aietf%3Awg%3Aoauth%3A2.0%3Aoob&scope=https%3A%2F%2Fwww.googleapis.com%2Fauth%2Fdrive&response_type=code&access_type=offline&approval_prompt=force\n",
      "··········\n",
      "Please, open the following URL in a web browser: https://accounts.google.com/o/oauth2/auth?client_id=32555940559.apps.googleusercontent.com&redirect_uri=urn%3Aietf%3Awg%3Aoauth%3A2.0%3Aoob&scope=https%3A%2F%2Fwww.googleapis.com%2Fauth%2Fdrive&response_type=code&access_type=offline&approval_prompt=force\n",
      "Please enter the verification code: Access token retrieved correctly.\n"
     ]
    }
   ],
   "source": [
    "# 4-1\n",
    "!apt-get install -y -qq software-properties-common python-software-properties module-init-tools\n",
    "!add-apt-repository -y ppa:alessandro-strada/ppa 2>&1 > /dev/null\n",
    "!apt-get update -qq 2>&1 > /dev/null\n",
    "!apt-get -y install -qq google-drive-ocamlfuse fuse\n",
    "from google.colab import auth\n",
    "auth.authenticate_user()\n",
    "from oauth2client.client import GoogleCredentials\n",
    "creds = GoogleCredentials.get_application_default()\n",
    "import getpass\n",
    "!google-drive-ocamlfuse -headless -id={creds.client_id} -secret={creds.client_secret} < /dev/null 2>&1 | grep URL\n",
    "vcode = getpass.getpass()\n",
    "!echo {vcode} | google-drive-ocamlfuse -headless -id={creds.client_id} -secret={creds.client_secret}\n",
    "# 如果出現了長條型的可輸入單元格 代表你曾經 授權過了 可以直接跳到下一格"
   ]
  },
  {
   "cell_type": "code",
   "execution_count": 0,
   "metadata": {
    "colab": {},
    "colab_type": "code",
    "id": "7_IUqr6fagf5"
   },
   "outputs": [],
   "source": [
    "# 4-2\n",
    "# 指定Google Drive雲端硬盤的根目錄，名為drive\n",
    "!mkdir -p drive\n",
    "!google-drive-ocamlfuse drive"
   ]
  },
  {
   "cell_type": "code",
   "execution_count": 0,
   "metadata": {
    "colab": {},
    "colab_type": "code",
    "id": "fuM0eaqBagf7"
   },
   "outputs": [],
   "source": [
    "# 4-3\n",
    "# 在drive下面新增一個Colab Notebook的資料夾\n",
    "import os\n",
    "os.chdir(\"drive\")\n",
    "if(\"Colab Notebooks\" in os.listdir()):\n",
    "  os.chdir(\"Colab Notebooks\")\n",
    "else:\n",
    "  os.mkdir(\"Colab Notebooks\")\n",
    "  os.chdir(\"Colab Notebooks\")"
   ]
  },
  {
   "cell_type": "markdown",
   "metadata": {
    "colab_type": "text",
    "id": "WwMFITtTagf9"
   },
   "source": [
    "## import library與讀取檔案"
   ]
  },
  {
   "cell_type": "code",
   "execution_count": 1,
   "metadata": {
    "colab": {},
    "colab_type": "code",
    "id": "7HtMDWf8agf-"
   },
   "outputs": [],
   "source": [
    "# 4-4\n",
    "# 首先載入所需套件，一般會利用import (package_name) as (xxx) 來簡化套件名稱，使得之後呼叫它們時更方便\n",
    "\n",
    "# 操作陣列型態資料處理的套件\n",
    "import pandas as pd\n",
    "import numpy as np\n",
    "\n",
    "# 資料檔案處理\n",
    "import os # 處理字符串路徑\n",
    "import zipfile # 內建標準庫提供做壓縮與解壓縮用\n",
    "\n",
    "# 資料視覺化\n",
    "import matplotlib.pyplot as plt # 基本的繪圖套件\n",
    "import matplotlib.image as mpimg # 用於讀取圖片\n",
    "%matplotlib inline\n",
    "plt.style.use('ggplot') # 製圖時選用ggplot的視覺樣式\n",
    "\n",
    "# 指定模型學習的參數\n",
    "import random\n",
    "import time\n",
    "seed = 7\n",
    "np.random.seed(seed)\n",
    "\n",
    "# 忽略警告\n",
    "import warnings\n",
    "warnings.filterwarnings('ignore')"
   ]
  },
  {
   "cell_type": "code",
   "execution_count": 2,
   "metadata": {
    "colab": {
     "base_uri": "https://localhost:8080/",
     "height": 34
    },
    "colab_type": "code",
    "executionInfo": {
     "elapsed": 2624,
     "status": "ok",
     "timestamp": 1569130071804,
     "user": {
      "displayName": "沈阿甫",
      "photoUrl": "",
      "userId": "10734070897281135634"
     },
     "user_tz": -480
    },
    "id": "3dvm8FCIaggA",
    "outputId": "69201eb1-31cd-4874-a19d-a8eb64919400"
   },
   "outputs": [
    {
     "name": "stderr",
     "output_type": "stream",
     "text": [
      "Using TensorFlow backend.\n"
     ]
    }
   ],
   "source": [
    "# 4-5\n",
    "# keras\n",
    "from keras.models import Model\n",
    "from keras import layers\n",
    "from keras import backend as K\n",
    "from keras.models import Sequential\n",
    "from keras.layers import Dense,Flatten,Dropout # Frequency Layers\n",
    "from keras.layers.convolutional import Conv2D,MaxPooling2D,Convolution2D # CNN Layers\n",
    "from keras.utils.np_utils import to_categorical # 資料夾輸出標籤\n",
    "from keras.preprocessing.image import img_to_array, load_img\n",
    "from keras.preprocessing.image import ImageDataGenerator # 從資料夾生成訓練用資料集\n",
    "\n",
    "# tensorflow\n",
    "import tensorflow as tf"
   ]
  },
  {
   "cell_type": "code",
   "execution_count": 3,
   "metadata": {
    "colab": {
     "base_uri": "https://localhost:8080/",
     "height": 204
    },
    "colab_type": "code",
    "executionInfo": {
     "elapsed": 3892,
     "status": "ok",
     "timestamp": 1569130054906,
     "user": {
      "displayName": "沈阿甫",
      "photoUrl": "",
      "userId": "10734070897281135634"
     },
     "user_tz": -480
    },
    "id": "27NXajIaaggD",
    "outputId": "43ea0b45-ef5d-46e8-e123-7fb7f1bcbbdb"
   },
   "outputs": [
    {
     "name": "stdout",
     "output_type": "stream",
     "text": [
      "--2020-02-26 16:30:33--  https://storage.googleapis.com/mledu-datasets/cats_and_dogs_filtered.zip\n",
      "Resolving storage.googleapis.com (storage.googleapis.com)... 216.58.200.48\n",
      "Connecting to storage.googleapis.com (storage.googleapis.com)|216.58.200.48|:443... connected.\n",
      "HTTP request sent, awaiting response... 200 OK\n",
      "Length: 68606236 (65M) [application/zip]\n",
      "Saving to: ‘/tmp/cats_and_dogs_filtered.zip’\n",
      "\n",
      "/tmp/cats_and_dogs_ 100%[===================>]  65.43M  5.31MB/s    in 12s     \n",
      "\n",
      "2020-02-26 16:30:46 (5.53 MB/s) - ‘/tmp/cats_and_dogs_filtered.zip’ saved [68606236/68606236]\n",
      "\n"
     ]
    }
   ],
   "source": [
    "# 4-6\n",
    "# 使用wget指令，可從連結中下載檔案至指定位置\n",
    "!wget --no-check-certificate \\\n",
    "    https://storage.googleapis.com/mledu-datasets/cats_and_dogs_filtered.zip \\\n",
    "    -O /tmp/cats_and_dogs_filtered.zip # 若要指定下載檔案儲存在硬碟中的檔名，可以使用 -O 參數\n",
    "\n",
    "# 將下載到的資料集解壓縮至資料夾中\n",
    "local_zip = '/tmp/cats_and_dogs_filtered.zip' # 把載下的資料帶入local_zip\n",
    "zip_ref = zipfile.ZipFile(local_zip, 'r') # 讀取資料夾中的資料\n",
    "zip_ref.extractall('/tmp') # 解壓縮的目的路徑\n",
    "zip_ref.close() # 關閉資料夾\n",
    "\n",
    "# 取得資料集路徑\n",
    "base_dir = '/tmp/cats_and_dogs_filtered'\n",
    "train_dir = os.path.join(base_dir, 'train') #連結目錄與文件名\n",
    "validation_dir = os.path.join(base_dir, 'validation')"
   ]
  },
  {
   "cell_type": "code",
   "execution_count": 4,
   "metadata": {
    "colab": {},
    "colab_type": "code",
    "id": "IzYvPbkbaggF"
   },
   "outputs": [],
   "source": [
    "# 4-7\n",
    "# 取得所有圖片的路徑\n",
    "train_cats_dir = os.path.join(train_dir, 'cats')           # 取得訓練用貓圖片的路徑\n",
    "train_dogs_dir = os.path.join(train_dir, 'dogs')           # 取得訓練用狗圖片的路徑\n",
    "validation_cats_dir = os.path.join(validation_dir, 'cats') # 取得驗證用貓圖片的路徑\n",
    "validation_dogs_dir = os.path.join(validation_dir, 'dogs') # 取得驗證用狗圖片的路徑"
   ]
  },
  {
   "cell_type": "code",
   "execution_count": 5,
   "metadata": {
    "colab": {},
    "colab_type": "code",
    "id": "r5a6ImbdaggH"
   },
   "outputs": [],
   "source": [
    "# 4-8\n",
    "# 取得所有訓練及驗證用的圖片\n",
    "train_cat_fnames = os.listdir(train_cats_dir)              # 取得訓練用所有貓圖片\n",
    "train_dog_fnames = os.listdir(train_dogs_dir)              # 取得訓練用所有狗圖片\n",
    "validation_cat_fnames = os.listdir(validation_cats_dir)    # 取得驗證用所有貓圖片\n",
    "validation_dog_fnames = os.listdir(validation_dogs_dir)    # 取得驗用所有狗圖片"
   ]
  },
  {
   "cell_type": "markdown",
   "metadata": {
    "colab_type": "text",
    "id": "85vncGuAaggJ"
   },
   "source": [
    "## 4.1 卷積網路模型\n",
    "為了讓大家更容易了解如何利用TensorFlow及Keras建構一個深度學習模型，這裡展示了一個小型的卷積神經網路(Convolution Neural Network, CNN)，共有三層卷積層(包含ReLu及Max Pooling)，每個卷積層皆用3x3的濾波器進行卷積動作，三層分別提取16, 32及64組濾波器。接著展開成獨立節點後，再加入二層全連結層，分別為512及1個節點，而最後得到的那一個節點加上Sigmodid函數即為最終輸出的結果。其值介於0.0 ~ 1.0，當值越接近1.0時圖片為狗的機率越高，反之輸出值越接近0.0時圖片判定是貓的機率越高。\n",
    "\n",
    "這個模型雖然不大，但可適用各種圖像分類問題，大家可試著導入自己準備的圖像進行測試。"
   ]
  },
  {
   "cell_type": "markdown",
   "metadata": {
    "colab_type": "text",
    "id": "a7ltGu8FaggK"
   },
   "source": [
    "## 4.2 輸入圖像尺寸正規化\n",
    "接著說明輸入(層)資料問題。由於資料集的每張圖片大小、長寬比都不一樣，這樣無法直接進入訓練模型，因此須將影像尺寸統一縮小到指定尺寸。在這個範例中會將圖片統一縮至150x150像素，而色彩依然保持全彩(RGB 3通道)，所以對輸入層來說等於150x150x3。至於影像縮小後造成影像變形導致訓練結果有些許不同的問題是另一層次問題，在此先忽略不予考慮。"
   ]
  },
  {
   "cell_type": "markdown",
   "metadata": {
    "colab_type": "text",
    "id": "zaIve6syaggL"
   },
   "source": [
    "## 4.3 模型架構及訓練參數說明"
   ]
  },
  {
   "cell_type": "code",
   "execution_count": 6,
   "metadata": {
    "colab": {
     "base_uri": "https://localhost:8080/",
     "height": 734
    },
    "colab_type": "code",
    "executionInfo": {
     "elapsed": 640,
     "status": "ok",
     "timestamp": 1569130095317,
     "user": {
      "displayName": "沈阿甫",
      "photoUrl": "",
      "userId": "10734070897281135634"
     },
     "user_tz": -480
    },
    "id": "lmKkCNuiaggL",
    "outputId": "8cfa23ea-4318-4eea-e5f9-f1a4be74b0bf"
   },
   "outputs": [
    {
     "ename": "AttributeError",
     "evalue": "module 'tensorflow' has no attribute 'get_default_graph'",
     "output_type": "error",
     "traceback": [
      "\u001b[0;31m---------------------------------------------------------------------------\u001b[0m",
      "\u001b[0;31mAttributeError\u001b[0m                            Traceback (most recent call last)",
      "\u001b[0;32m<ipython-input-6-56f44f35d9af>\u001b[0m in \u001b[0;36m<module>\u001b[0;34m\u001b[0m\n\u001b[1;32m      1\u001b[0m \u001b[0;31m# 4-9\u001b[0m\u001b[0;34m\u001b[0m\u001b[0;34m\u001b[0m\u001b[0;34m\u001b[0m\u001b[0m\n\u001b[1;32m      2\u001b[0m \u001b[0;31m# 以Sequential Model來設計模型架構\u001b[0m\u001b[0;34m\u001b[0m\u001b[0;34m\u001b[0m\u001b[0;34m\u001b[0m\u001b[0m\n\u001b[0;32m----> 3\u001b[0;31m \u001b[0mmodel\u001b[0m \u001b[0;34m=\u001b[0m \u001b[0mSequential\u001b[0m\u001b[0;34m(\u001b[0m\u001b[0;34m)\u001b[0m\u001b[0;34m\u001b[0m\u001b[0;34m\u001b[0m\u001b[0m\n\u001b[0m\u001b[1;32m      4\u001b[0m \u001b[0;34m\u001b[0m\u001b[0m\n\u001b[1;32m      5\u001b[0m \u001b[0;31m# 第一層-卷積層\u001b[0m\u001b[0;34m\u001b[0m\u001b[0;34m\u001b[0m\u001b[0;34m\u001b[0m\u001b[0m\n",
      "\u001b[0;32m/Applications/anaconda3/lib/python3.7/site-packages/keras/engine/sequential.py\u001b[0m in \u001b[0;36m__init__\u001b[0;34m(self, layers, name)\u001b[0m\n\u001b[1;32m     85\u001b[0m \u001b[0;34m\u001b[0m\u001b[0m\n\u001b[1;32m     86\u001b[0m     \u001b[0;32mdef\u001b[0m \u001b[0m__init__\u001b[0m\u001b[0;34m(\u001b[0m\u001b[0mself\u001b[0m\u001b[0;34m,\u001b[0m \u001b[0mlayers\u001b[0m\u001b[0;34m=\u001b[0m\u001b[0;32mNone\u001b[0m\u001b[0;34m,\u001b[0m \u001b[0mname\u001b[0m\u001b[0;34m=\u001b[0m\u001b[0;32mNone\u001b[0m\u001b[0;34m)\u001b[0m\u001b[0;34m:\u001b[0m\u001b[0;34m\u001b[0m\u001b[0;34m\u001b[0m\u001b[0m\n\u001b[0;32m---> 87\u001b[0;31m         \u001b[0msuper\u001b[0m\u001b[0;34m(\u001b[0m\u001b[0mSequential\u001b[0m\u001b[0;34m,\u001b[0m \u001b[0mself\u001b[0m\u001b[0;34m)\u001b[0m\u001b[0;34m.\u001b[0m\u001b[0m__init__\u001b[0m\u001b[0;34m(\u001b[0m\u001b[0mname\u001b[0m\u001b[0;34m=\u001b[0m\u001b[0mname\u001b[0m\u001b[0;34m)\u001b[0m\u001b[0;34m\u001b[0m\u001b[0;34m\u001b[0m\u001b[0m\n\u001b[0m\u001b[1;32m     88\u001b[0m         \u001b[0mself\u001b[0m\u001b[0;34m.\u001b[0m\u001b[0m_build_input_shape\u001b[0m \u001b[0;34m=\u001b[0m \u001b[0;32mNone\u001b[0m\u001b[0;34m\u001b[0m\u001b[0;34m\u001b[0m\u001b[0m\n\u001b[1;32m     89\u001b[0m \u001b[0;34m\u001b[0m\u001b[0m\n",
      "\u001b[0;32m/Applications/anaconda3/lib/python3.7/site-packages/keras/legacy/interfaces.py\u001b[0m in \u001b[0;36mwrapper\u001b[0;34m(*args, **kwargs)\u001b[0m\n\u001b[1;32m     89\u001b[0m                 warnings.warn('Update your `' + object_name + '` call to the ' +\n\u001b[1;32m     90\u001b[0m                               'Keras 2 API: ' + signature, stacklevel=2)\n\u001b[0;32m---> 91\u001b[0;31m             \u001b[0;32mreturn\u001b[0m \u001b[0mfunc\u001b[0m\u001b[0;34m(\u001b[0m\u001b[0;34m*\u001b[0m\u001b[0margs\u001b[0m\u001b[0;34m,\u001b[0m \u001b[0;34m**\u001b[0m\u001b[0mkwargs\u001b[0m\u001b[0;34m)\u001b[0m\u001b[0;34m\u001b[0m\u001b[0;34m\u001b[0m\u001b[0m\n\u001b[0m\u001b[1;32m     92\u001b[0m         \u001b[0mwrapper\u001b[0m\u001b[0;34m.\u001b[0m\u001b[0m_original_function\u001b[0m \u001b[0;34m=\u001b[0m \u001b[0mfunc\u001b[0m\u001b[0;34m\u001b[0m\u001b[0;34m\u001b[0m\u001b[0m\n\u001b[1;32m     93\u001b[0m         \u001b[0;32mreturn\u001b[0m \u001b[0mwrapper\u001b[0m\u001b[0;34m\u001b[0m\u001b[0;34m\u001b[0m\u001b[0m\n",
      "\u001b[0;32m/Applications/anaconda3/lib/python3.7/site-packages/keras/engine/network.py\u001b[0m in \u001b[0;36m__init__\u001b[0;34m(self, *args, **kwargs)\u001b[0m\n\u001b[1;32m     94\u001b[0m         \u001b[0;32melse\u001b[0m\u001b[0;34m:\u001b[0m\u001b[0;34m\u001b[0m\u001b[0;34m\u001b[0m\u001b[0m\n\u001b[1;32m     95\u001b[0m             \u001b[0;31m# Subclassed network\u001b[0m\u001b[0;34m\u001b[0m\u001b[0;34m\u001b[0m\u001b[0;34m\u001b[0m\u001b[0m\n\u001b[0;32m---> 96\u001b[0;31m             \u001b[0mself\u001b[0m\u001b[0;34m.\u001b[0m\u001b[0m_init_subclassed_network\u001b[0m\u001b[0;34m(\u001b[0m\u001b[0;34m**\u001b[0m\u001b[0mkwargs\u001b[0m\u001b[0;34m)\u001b[0m\u001b[0;34m\u001b[0m\u001b[0;34m\u001b[0m\u001b[0m\n\u001b[0m\u001b[1;32m     97\u001b[0m \u001b[0;34m\u001b[0m\u001b[0m\n\u001b[1;32m     98\u001b[0m     \u001b[0;32mdef\u001b[0m \u001b[0m_base_init\u001b[0m\u001b[0;34m(\u001b[0m\u001b[0mself\u001b[0m\u001b[0;34m,\u001b[0m \u001b[0mname\u001b[0m\u001b[0;34m=\u001b[0m\u001b[0;32mNone\u001b[0m\u001b[0;34m)\u001b[0m\u001b[0;34m:\u001b[0m\u001b[0;34m\u001b[0m\u001b[0;34m\u001b[0m\u001b[0m\n",
      "\u001b[0;32m/Applications/anaconda3/lib/python3.7/site-packages/keras/engine/network.py\u001b[0m in \u001b[0;36m_init_subclassed_network\u001b[0;34m(self, name)\u001b[0m\n\u001b[1;32m    292\u001b[0m \u001b[0;34m\u001b[0m\u001b[0m\n\u001b[1;32m    293\u001b[0m     \u001b[0;32mdef\u001b[0m \u001b[0m_init_subclassed_network\u001b[0m\u001b[0;34m(\u001b[0m\u001b[0mself\u001b[0m\u001b[0;34m,\u001b[0m \u001b[0mname\u001b[0m\u001b[0;34m=\u001b[0m\u001b[0;32mNone\u001b[0m\u001b[0;34m)\u001b[0m\u001b[0;34m:\u001b[0m\u001b[0;34m\u001b[0m\u001b[0;34m\u001b[0m\u001b[0m\n\u001b[0;32m--> 294\u001b[0;31m         \u001b[0mself\u001b[0m\u001b[0;34m.\u001b[0m\u001b[0m_base_init\u001b[0m\u001b[0;34m(\u001b[0m\u001b[0mname\u001b[0m\u001b[0;34m=\u001b[0m\u001b[0mname\u001b[0m\u001b[0;34m)\u001b[0m\u001b[0;34m\u001b[0m\u001b[0;34m\u001b[0m\u001b[0m\n\u001b[0m\u001b[1;32m    295\u001b[0m         \u001b[0mself\u001b[0m\u001b[0;34m.\u001b[0m\u001b[0m_is_graph_network\u001b[0m \u001b[0;34m=\u001b[0m \u001b[0;32mFalse\u001b[0m\u001b[0;34m\u001b[0m\u001b[0;34m\u001b[0m\u001b[0m\n\u001b[1;32m    296\u001b[0m         \u001b[0mself\u001b[0m\u001b[0;34m.\u001b[0m\u001b[0m_expects_training_arg\u001b[0m \u001b[0;34m=\u001b[0m \u001b[0mhas_arg\u001b[0m\u001b[0;34m(\u001b[0m\u001b[0mself\u001b[0m\u001b[0;34m.\u001b[0m\u001b[0mcall\u001b[0m\u001b[0;34m,\u001b[0m \u001b[0;34m'training'\u001b[0m\u001b[0;34m)\u001b[0m\u001b[0;34m\u001b[0m\u001b[0;34m\u001b[0m\u001b[0m\n",
      "\u001b[0;32m/Applications/anaconda3/lib/python3.7/site-packages/keras/engine/network.py\u001b[0m in \u001b[0;36m_base_init\u001b[0;34m(self, name)\u001b[0m\n\u001b[1;32m    107\u001b[0m         \u001b[0;32mif\u001b[0m \u001b[0;32mnot\u001b[0m \u001b[0mname\u001b[0m\u001b[0;34m:\u001b[0m\u001b[0;34m\u001b[0m\u001b[0;34m\u001b[0m\u001b[0m\n\u001b[1;32m    108\u001b[0m             \u001b[0mprefix\u001b[0m \u001b[0;34m=\u001b[0m \u001b[0mself\u001b[0m\u001b[0;34m.\u001b[0m\u001b[0m__class__\u001b[0m\u001b[0;34m.\u001b[0m\u001b[0m__name__\u001b[0m\u001b[0;34m.\u001b[0m\u001b[0mlower\u001b[0m\u001b[0;34m(\u001b[0m\u001b[0;34m)\u001b[0m\u001b[0;34m\u001b[0m\u001b[0;34m\u001b[0m\u001b[0m\n\u001b[0;32m--> 109\u001b[0;31m             \u001b[0mname\u001b[0m \u001b[0;34m=\u001b[0m \u001b[0mprefix\u001b[0m \u001b[0;34m+\u001b[0m \u001b[0;34m'_'\u001b[0m \u001b[0;34m+\u001b[0m \u001b[0mstr\u001b[0m\u001b[0;34m(\u001b[0m\u001b[0mK\u001b[0m\u001b[0;34m.\u001b[0m\u001b[0mget_uid\u001b[0m\u001b[0;34m(\u001b[0m\u001b[0mprefix\u001b[0m\u001b[0;34m)\u001b[0m\u001b[0;34m)\u001b[0m\u001b[0;34m\u001b[0m\u001b[0;34m\u001b[0m\u001b[0m\n\u001b[0m\u001b[1;32m    110\u001b[0m         \u001b[0mself\u001b[0m\u001b[0;34m.\u001b[0m\u001b[0mname\u001b[0m \u001b[0;34m=\u001b[0m \u001b[0mname\u001b[0m\u001b[0;34m\u001b[0m\u001b[0;34m\u001b[0m\u001b[0m\n\u001b[1;32m    111\u001b[0m \u001b[0;34m\u001b[0m\u001b[0m\n",
      "\u001b[0;32m/Applications/anaconda3/lib/python3.7/site-packages/keras/backend/tensorflow_backend.py\u001b[0m in \u001b[0;36mget_uid\u001b[0;34m(prefix)\u001b[0m\n\u001b[1;32m     72\u001b[0m     \"\"\"\n\u001b[1;32m     73\u001b[0m     \u001b[0;32mglobal\u001b[0m \u001b[0m_GRAPH_UID_DICTS\u001b[0m\u001b[0;34m\u001b[0m\u001b[0;34m\u001b[0m\u001b[0m\n\u001b[0;32m---> 74\u001b[0;31m     \u001b[0mgraph\u001b[0m \u001b[0;34m=\u001b[0m \u001b[0mtf\u001b[0m\u001b[0;34m.\u001b[0m\u001b[0mget_default_graph\u001b[0m\u001b[0;34m(\u001b[0m\u001b[0;34m)\u001b[0m\u001b[0;34m\u001b[0m\u001b[0;34m\u001b[0m\u001b[0m\n\u001b[0m\u001b[1;32m     75\u001b[0m     \u001b[0;32mif\u001b[0m \u001b[0mgraph\u001b[0m \u001b[0;32mnot\u001b[0m \u001b[0;32min\u001b[0m \u001b[0m_GRAPH_UID_DICTS\u001b[0m\u001b[0;34m:\u001b[0m\u001b[0;34m\u001b[0m\u001b[0;34m\u001b[0m\u001b[0m\n\u001b[1;32m     76\u001b[0m         \u001b[0m_GRAPH_UID_DICTS\u001b[0m\u001b[0;34m[\u001b[0m\u001b[0mgraph\u001b[0m\u001b[0;34m]\u001b[0m \u001b[0;34m=\u001b[0m \u001b[0mdefaultdict\u001b[0m\u001b[0;34m(\u001b[0m\u001b[0mint\u001b[0m\u001b[0;34m)\u001b[0m\u001b[0;34m\u001b[0m\u001b[0;34m\u001b[0m\u001b[0m\n",
      "\u001b[0;31mAttributeError\u001b[0m: module 'tensorflow' has no attribute 'get_default_graph'"
     ]
    }
   ],
   "source": [
    "# 4-9\n",
    "# 以Sequential Model來設計模型架構\n",
    "model = Sequential()\n",
    "\n",
    "# 第一層-卷積層\n",
    "# Conv2D共產生16組3X3X3的濾波器，並搭配ReLu激活(Activation)函數\n",
    "# 以2x2窗口進行最大池化(Max Pooling)動作，取出四個值中最大值，同時將圖像縮小至一半尺寸74x74x16\n",
    "# 輸入的圖像格式為(150x150x3) : 150x150是圖片的像素, 3的話則為顏色的通道 R, G, B\n",
    "# 每一組濾波器另加上一個偏置值(Bias)一起訓練，故共有 (3x3x3+1)x16=448個參數待訓練，經過卷積後圖像大小變成148x148x16\n",
    "model.add(Conv2D(16,(3,3),strides=(1,1),input_shape=(150, 150, 3),padding='valid',activation='relu',kernel_initializer='uniform'))\n",
    "model.add(MaxPooling2D(pool_size=(2,2),strides=None))\n",
    "\n",
    "# 第二層-卷積層\n",
    "# Conv2D共產生32組3X3X3的濾波器，並搭配ReLu激活(Activation)函數\n",
    "# 每一組濾波器另加上一個偏置值(Bias)一起訓練，故共有 (3x3x16+1)x32=4,640個參數待訓練，經過卷積後圖像大小變成72x72x32\n",
    "# 接著同樣以2x2窗口進行最大池化(Max Pooling)動作，取出四個值中最大值，同時將圖像縮小至一半尺寸36x36x32\n",
    "model.add(Conv2D(32,(3,3),strides=(1,1),padding='same',activation='relu',kernel_initializer='uniform'))\n",
    "model.add(MaxPooling2D(pool_size=(2,2),strides=None))\n",
    "\n",
    "# 第三層-卷積層\n",
    "# Conv2D共產生64組3X3X3的濾波器，並搭配ReLu激活(Activation)函數\n",
    "# 每一組濾波器另加上一個偏置值(Bias)一起訓練，故共有 (3x3x32+1)x64=18,496個參數待訓練，經過卷積後圖像大小變成34x34x64\n",
    "# 以2x2窗口進行最大池化(Max Pooling)動作，取出四個值中最大值，同時將圖像縮小至一半尺寸17x17x64\n",
    "model.add(Conv2D(64,(3,3),strides=(1,1),padding='same',activation='relu',kernel_initializer='uniform'))\n",
    "model.add(MaxPooling2D(pool_size=(2,2),strides=None))\n",
    "\n",
    "# 第四層-平坦層\n",
    "# 將所有節點展開(Flatten)變成一維節點，準備進行下一階段的全連結網路，共有17x17x64=18,496個節點\n",
    "model.add(Flatten())\n",
    "\n",
    "# 第五層-全連結層\n",
    "# 以512個節點和上一層進行全連結(Dense)，並搭配ReLu激活函數\n",
    "# 加入Dropout層，避免訓練發生過擬合\n",
    "# 再加上一個偏置值(Bias)一起訓練，故共有(18,496+1)x512=9,470,464個參數待訓練\n",
    "model.add(Dense(512,activation='relu'))\n",
    "model.add(Dropout(0.3))\n",
    "model.add(Dense(1, activation='sigmoid'))\n",
    "          \n",
    "# 展示模型結構及各層所需訓練參數，合計共有10,641,441個參數待訓練\n",
    "model.summary()"
   ]
  },
  {
   "cell_type": "markdown",
   "metadata": {
    "colab_type": "text",
    "id": "9gj58_JKaggN"
   },
   "source": [
    "## 4.4 模型配置及訓練優化設定\n",
    "接下來配置模型訓練的規格。這裡用binary_crossentropy損失來訓練模型，因為這個範例是一個二元分類問題，而最終激活函數是sigmoid。 而優化器部份使用rmsprop自動學習速率調速，學習速率初始為0.001。 在訓練期間，需監控分類的準確性。\n",
    "\n",
    "補充說明一下，使用RMSprop優化算法優於隨機梯度下降（SGD），因為RMSprop為我們實現了自動學習速率調整。而其它如Adam和Adagrad等優化器也會在訓練期間自動調整學習速率，若使用在本範例亦可以很好地工作。"
   ]
  },
  {
   "cell_type": "code",
   "execution_count": 11,
   "metadata": {
    "colab": {
     "base_uri": "https://localhost:8080/",
     "height": 173
    },
    "colab_type": "code",
    "executionInfo": {
     "elapsed": 835,
     "status": "ok",
     "timestamp": 1569130098635,
     "user": {
      "displayName": "沈阿甫",
      "photoUrl": "",
      "userId": "10734070897281135634"
     },
     "user_tz": -480
    },
    "id": "A_VkCfxpaggO",
    "outputId": "ed3980ca-9633-462a-b2c3-10282e82d0f2",
    "scrolled": true
   },
   "outputs": [
    {
     "name": "stdout",
     "output_type": "stream",
     "text": [
      "WARNING:tensorflow:From /usr/local/lib/python3.6/dist-packages/keras/optimizers.py:793: The name tf.train.Optimizer is deprecated. Please use tf.compat.v1.train.Optimizer instead.\n",
      "\n",
      "WARNING:tensorflow:From /usr/local/lib/python3.6/dist-packages/keras/backend/tensorflow_backend.py:3657: The name tf.log is deprecated. Please use tf.math.log instead.\n",
      "\n",
      "WARNING:tensorflow:From /usr/local/lib/python3.6/dist-packages/tensorflow/python/ops/nn_impl.py:180: add_dispatch_support.<locals>.wrapper (from tensorflow.python.ops.array_ops) is deprecated and will be removed in a future version.\n",
      "Instructions for updating:\n",
      "Use tf.where in 2.0, which has the same broadcast rule as np.where\n",
      "rmsprop自動學習速率調速設置！done！\n"
     ]
    }
   ],
   "source": [
    "# 4-10\n",
    "from keras.optimizers import RMSprop\n",
    "\n",
    "model.compile(loss='binary_crossentropy',\n",
    "              optimizer=RMSprop(lr=0.001),\n",
    "              metrics=['acc'])\n",
    "\n",
    "print('rmsprop自動學習速率調速設置！done！')"
   ]
  },
  {
   "cell_type": "markdown",
   "metadata": {
    "colab_type": "text",
    "id": "MqwHM8V2aggQ"
   },
   "source": [
    "## 4.5 設置數據產生器"
   ]
  },
  {
   "cell_type": "code",
   "execution_count": 0,
   "metadata": {
    "colab": {},
    "colab_type": "code",
    "id": "gh7mcVyhaggR"
   },
   "outputs": [],
   "source": [
    "# 4-11\n",
    "# 以ImageDataGenerator模組，將圖片中每像素的數值介於[0,255] (int整數)\n",
    "# 正規化(rescale)到 [0,1]之間，即所有資料都乘上1.0/255，以利後續計算\n",
    "train_datagen = ImageDataGenerator(rescale=1./255) # 為訓練資料\n",
    "test_datagen = ImageDataGenerator(rescale=1./255) # 為驗證資料"
   ]
  },
  {
   "cell_type": "markdown",
   "metadata": {
    "colab_type": "text",
    "id": "b7Zs2a5baggT"
   },
   "source": [
    "## 4.6 設置數據壓縮"
   ]
  },
  {
   "cell_type": "code",
   "execution_count": 13,
   "metadata": {
    "colab": {
     "base_uri": "https://localhost:8080/",
     "height": 68
    },
    "colab_type": "code",
    "executionInfo": {
     "elapsed": 594,
     "status": "ok",
     "timestamp": 1569130103212,
     "user": {
      "displayName": "沈阿甫",
      "photoUrl": "",
      "userId": "10734070897281135634"
     },
     "user_tz": -480
    },
    "id": "hWI5dYzLaggT",
    "outputId": "42a17cae-9e19-424e-951f-389269dbf0d3"
   },
   "outputs": [
    {
     "name": "stdout",
     "output_type": "stream",
     "text": [
      "Found 2000 images belonging to 2 classes.\n",
      "Found 1000 images belonging to 2 classes.\n",
      "resize！done!\n"
     ]
    }
   ],
   "source": [
    "# 4-12\n",
    "# 使用置數據產生器的flow_from_directory方法，將讀取源文件夾中的圖片，並標註標籤(路徑名稱）輸入到模型(網路)中\n",
    "train_generator = train_datagen.flow_from_directory(\n",
    "        train_dir,  # 圖片訓練集來源\n",
    "        target_size=(150, 150),  # 指定圖片尺寸縮小至150x150\n",
    "        batch_size=20, # 批量大小一次讀取20張圖片\n",
    "        class_mode='binary') # 分類方式為二進制(非0即1)\n",
    "\n",
    "validation_generator = test_datagen.flow_from_directory(\n",
    "        validation_dir, # 圖片驗證集來源\n",
    "        target_size=(150, 150),\n",
    "        batch_size=20,\n",
    "        class_mode='binary')\n",
    "\n",
    "print('resize！done!')"
   ]
  },
  {
   "cell_type": "markdown",
   "metadata": {
    "colab_type": "text",
    "id": "Y_qjhG2SaggV"
   },
   "source": [
    "## 4.7 訓練模型\n",
    "一開始不用設定太多次，主要先確認每次迭代是否有令正確率(Accuracy)是否有逐漸提高，在執行過程中，每次迭代會輸出訓練的損失率(loss)；通常正常率不一定每次都向上升(損失率下降)，有時會產生振盪(忽高忽低)，這是正常的，只要有逐漸收歛(高低變動幅度趨近零)即可。\n",
    "\n",
    "若想再將正確率提高些，一般來說可增加迭代次數"
   ]
  },
  {
   "cell_type": "code",
   "execution_count": 14,
   "metadata": {
    "colab": {
     "base_uri": "https://localhost:8080/",
     "height": 527
    },
    "colab_type": "code",
    "executionInfo": {
     "elapsed": 941297,
     "status": "ok",
     "timestamp": 1569131045256,
     "user": {
      "displayName": "沈阿甫",
      "photoUrl": "",
      "userId": "10734070897281135634"
     },
     "user_tz": -480
    },
    "id": "5FWacin5aggW",
    "outputId": "84d3437c-368d-42c4-bbde-4146a7536be1"
   },
   "outputs": [
    {
     "name": "stdout",
     "output_type": "stream",
     "text": [
      "Epoch 1/15\n",
      " - 64s - loss: 0.7031 - acc: 0.5160 - val_loss: 0.6902 - val_acc: 0.5340\n",
      "Epoch 2/15\n",
      " - 62s - loss: 0.7002 - acc: 0.5400 - val_loss: 0.6966 - val_acc: 0.4960\n",
      "Epoch 3/15\n",
      " - 63s - loss: 0.6891 - acc: 0.5570 - val_loss: 0.6870 - val_acc: 0.5360\n",
      "Epoch 4/15\n",
      " - 63s - loss: 0.6876 - acc: 0.6230 - val_loss: 0.7381 - val_acc: 0.5540\n",
      "Epoch 5/15\n",
      " - 63s - loss: 0.6314 - acc: 0.6670 - val_loss: 0.6319 - val_acc: 0.6450\n",
      "Epoch 6/15\n",
      " - 63s - loss: 0.6046 - acc: 0.7060 - val_loss: 0.5952 - val_acc: 0.6900\n",
      "Epoch 7/15\n",
      " - 63s - loss: 0.5478 - acc: 0.7245 - val_loss: 0.5977 - val_acc: 0.7010\n",
      "Epoch 8/15\n",
      " - 63s - loss: 0.4903 - acc: 0.7645 - val_loss: 0.5781 - val_acc: 0.7170\n",
      "Epoch 9/15\n",
      " - 63s - loss: 0.4480 - acc: 0.7895 - val_loss: 0.6403 - val_acc: 0.7080\n",
      "Epoch 10/15\n",
      " - 63s - loss: 0.3962 - acc: 0.8205 - val_loss: 0.6442 - val_acc: 0.7090\n",
      "Epoch 11/15\n",
      " - 63s - loss: 0.3408 - acc: 0.8410 - val_loss: 0.6513 - val_acc: 0.6930\n",
      "Epoch 12/15\n",
      " - 62s - loss: 0.2815 - acc: 0.8755 - val_loss: 1.0400 - val_acc: 0.6630\n",
      "Epoch 13/15\n",
      " - 62s - loss: 0.2253 - acc: 0.9055 - val_loss: 0.8492 - val_acc: 0.6870\n",
      "Epoch 14/15\n",
      " - 61s - loss: 0.1633 - acc: 0.9415 - val_loss: 0.9217 - val_acc: 0.6950\n",
      "Epoch 15/15\n",
      " - 61s - loss: 0.1255 - acc: 0.9470 - val_loss: 1.1373 - val_acc: 0.7120\n"
     ]
    }
   ],
   "source": [
    "# 4-13\n",
    "history = model.fit_generator(\n",
    "      train_generator,\n",
    "      steps_per_epoch=100,  # 2000 images = batch_size * steps\n",
    "      epochs=15,\n",
    "      validation_data=validation_generator,\n",
    "      validation_steps=50,  # 1000 images = batch_size * steps\n",
    "      verbose=2)"
   ]
  },
  {
   "cell_type": "markdown",
   "metadata": {
    "colab_type": "text",
    "id": "3Aa_J6o-aggY"
   },
   "source": [
    "## 4.7 評估模型"
   ]
  },
  {
   "cell_type": "code",
   "execution_count": 15,
   "metadata": {
    "colab": {
     "base_uri": "https://localhost:8080/",
     "height": 564
    },
    "colab_type": "code",
    "executionInfo": {
     "elapsed": 1323,
     "status": "ok",
     "timestamp": 1569131060242,
     "user": {
      "displayName": "沈阿甫",
      "photoUrl": "",
      "userId": "10734070897281135634"
     },
     "user_tz": -480
    },
    "id": "2GFUYIvPaggd",
    "outputId": "8778b368-a5a9-4c50-b0c7-6727aadcfe56"
   },
   "outputs": [
    {
     "data": {
      "text/plain": [
       "Text(0.5, 1.0, 'Training and validation loss')"
      ]
     },
     "execution_count": 15,
     "metadata": {
      "tags": []
     },
     "output_type": "execute_result"
    },
    {
     "data": {
      "image/png": "[encoded data removed]",
      "text/plain": [
       "<Figure size 432x288 with 1 Axes>"
      ]
     },
     "metadata": {
      "tags": []
     },
     "output_type": "display_data"
    },
    {
     "data": {
      "image/png": "[encoded data removed]",
      "text/plain": [
       "<Figure size 432x288 with 1 Axes>"
      ]
     },
     "metadata": {
      "tags": []
     },
     "output_type": "display_data"
    }
   ],
   "source": [
    "# 4-14\n",
    "# Retrieve a list of accuracy results on training and test data\n",
    "# sets for each training epoch\n",
    "acc = history.history['acc']\n",
    "val_acc = history.history['val_acc']\n",
    "\n",
    "# Retrieve a list of list results on training and test data\n",
    "# sets for each training epoch\n",
    "loss = history.history['loss']\n",
    "val_loss = history.history['val_loss']\n",
    "\n",
    "# Get number of epochs\n",
    "epochs = range(len(acc))\n",
    "\n",
    "# Plot training and validation accuracy per epoch\n",
    "plt.plot(epochs, acc)\n",
    "plt.plot(epochs, val_acc)\n",
    "plt.title('Training and validation accuracy')\n",
    "\n",
    "plt.figure()\n",
    "\n",
    "# Plot training and validation loss per epoch\n",
    "plt.plot(epochs, loss)\n",
    "plt.plot(epochs, val_loss)\n",
    "plt.title('Training and validation loss')"
   ]
  },
  {
   "cell_type": "code",
   "execution_count": 16,
   "metadata": {
    "colab": {
     "base_uri": "https://localhost:8080/",
     "height": 333
    },
    "colab_type": "code",
    "executionInfo": {
     "elapsed": 1271,
     "status": "ok",
     "timestamp": 1569131062892,
     "user": {
      "displayName": "沈阿甫",
      "photoUrl": "",
      "userId": "10734070897281135634"
     },
     "user_tz": -480
    },
    "id": "xE73Vdpgaggg",
    "outputId": "a91b57fd-650c-4747-cfe9-6b2fc9d10e34"
   },
   "outputs": [
    {
     "name": "stdout",
     "output_type": "stream",
     "text": [
      "Result = 0.000834\n",
      "Test time :0.043943 second.\n",
      "有 0.08% 機率為資料集2\n"
     ]
    },
    {
     "data": {
      "image/png": "[encoded data removed]",
      "text/plain": [
       "<Figure size 432x288 with 1 Axes>"
      ]
     },
     "metadata": {
      "tags": []
     },
     "output_type": "display_data"
    }
   ],
   "source": [
    "# 4-15\n",
    "# 隨機從img_files_1或img_files_2路徑挑選一個\n",
    "validation = '/tmp/cats_and_dogs_filtered/validation'\n",
    "\n",
    "img_files_1 = [os.path.join(validation_cats_dir, f) for f in validation_cat_fnames]\n",
    "img_files_2 = [os.path.join(validation_dogs_dir, f) for f in validation_dog_fnames]\n",
    "img_path = random.choice(img_files_1 + img_files_2)\n",
    "\n",
    "# 讀入待測試圖像並秀出\n",
    "img = load_img(img_path, target_size=(150, 150))  # this is a PIL image\n",
    "plt.title(img_path)\n",
    "plt.grid(False)\n",
    "plt.imshow(img)\n",
    "\n",
    "# 將圖像轉成模型可分析格式(150x150x3, float32)\n",
    "x = img_to_array(img)  # Numpy array with shape (150, 150, 3)\n",
    "x = x.reshape((1,) + x.shape)  # Numpy array with shape (1, 150, 150, 3)\n",
    "x /= 255 # Rescale by 1/255\n",
    "\n",
    "start = time.time() # 啟動計時器\n",
    "result = model.predict(x) # 對輸入圖像進行推論(預測)\n",
    "finish = time.time() # 結束計時器\n",
    "\n",
    "print (\"Result = %f\" %result) # 印出結果可能機率值(0.0 ~ 1.0)\n",
    "print(\"Test time :%f second.\" %(finish-start)) # 印出推論時間\n",
    "\n",
    "# 設定分類門檻值並印出推論結果\n",
    "print(\"有 %.2f%% 機率為資料集2\" %(result * 100)) # 印出推論時間"
   ]
  },
  {
   "cell_type": "markdown",
   "metadata": {
    "colab_type": "text",
    "id": "hcski1Imaggi"
   },
   "source": [
    "----"
   ]
  }
 ],
 "metadata": {
  "colab": {
   "collapsed_sections": [],
   "name": "Cats_and_Dogs_lesson4.ipynb",
   "provenance": [],
   "toc_visible": true
  },
  "kernelspec": {
   "display_name": "Python 3",
   "language": "python",
   "name": "python3"
  },
  "language_info": {
   "codemirror_mode": {
    "name": "ipython",
    "version": 3
   },
   "file_extension": ".py",
   "mimetype": "text/x-python",
   "name": "python",
   "nbconvert_exporter": "python",
   "pygments_lexer": "ipython3",
   "version": "3.7.4"
  }
 },
 "nbformat": 4,
 "nbformat_minor": 1
}
